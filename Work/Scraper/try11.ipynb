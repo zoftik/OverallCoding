{
 "cells": [
  {
   "cell_type": "code",
   "execution_count": 1,
   "metadata": {},
   "outputs": [
    {
     "name": "stdout",
     "output_type": "stream",
     "text": [
      "403\n"
     ]
    }
   ],
   "source": [
    "from requests_html import HTMLSession\n",
    "\n",
    "import csv\n",
    "\n",
    "\n",
    "s = HTMLSession()\n",
    "url = 'https://www.newlook.com/row/boys/boys-new-in/c/row-boys-new-in'\n",
    "r = s.get(url)\n",
    "print (r.status_code)"
   ]
  },
  {
   "cell_type": "code",
   "execution_count": 3,
   "metadata": {},
   "outputs": [],
   "source": [
    "# from requests_html import HTMLSession\n",
    "# import csv\n",
    "# import pandas as pd\n",
    "\n",
    "# s = HTMLSession()\n",
    "\n",
    "\n",
    "# def get_product_links(page):\n",
    "#     url = f'https://themes.woocommerce.com/storefront/shop/{page}'\n",
    "#     links = []\n",
    "#     r = s.get(url)\n",
    "#     products = r.html.find('ul.products li')\n",
    "#     for item in products:\n",
    "#         links.append(item.find('a', first=True).attrs['href'])\n",
    "#     return links\n",
    "\n",
    "\n",
    "# def parse_product(url):\n",
    "#     r = s.get(url)\n",
    "#     title = r.html.find('h1.product_title.entry-title', first=True).text.strip()\n",
    "#     price = r.html.find('p.price', first=True).text.strip().replace('\\n', '')\n",
    "#     cat = r.html.find('span.posted_in', first=True).text.strip()\n",
    "#     try:\n",
    "#         sku = r.html.find('span.sku', first=True).text.strip()\n",
    "#     except AttributeError as err:\n",
    "#         sku = 'None'\n",
    "#         # print(err)\n",
    "\n",
    "#     product = {\n",
    "#         'title': title,\n",
    "#         'price': price,\n",
    "#         'sku': sku,\n",
    "#         'cat': cat,\n",
    "#     }\n",
    "#     return product\n",
    "\n",
    "\n",
    "# def save_csv(results):\n",
    "#     keys = results[0].keys()\n",
    "\n",
    "#     with open('products.csv', 'w') as f:\n",
    "#         dict_writer = csv.DictWriter(f, keys)\n",
    "#         dict_writer.writeheader()\n",
    "#         dict_writer.writerows(results)\n",
    "\n",
    "# path = r'D:\\VSCode\\Work\\Scraper\\Path'\n",
    "\n",
    "# def main():\n",
    "#     results = []\n",
    "#     for x in range(1, 10):\n",
    "#         print('Getting Page ', x)\n",
    "#         urls = get_product_links(x)\n",
    "#         for url in urls:\n",
    "#             results.append(parse_product(url))\n",
    "#         print('Total results: ', len(results))\n",
    "#         # save_csv(results)\n",
    "#         df = pd.DataFrame(results)\n",
    "#         df.to_csv(r'D:\\VSCode\\Work\\Scraper\\Path\\scraper.csv', index=False)\n",
    "\n",
    "\n",
    "# if __name__ == '__main__':\n",
    "#     main()"
   ]
  },
  {
   "cell_type": "code",
   "execution_count": null,
   "metadata": {},
   "outputs": [],
   "source": []
  }
 ],
 "metadata": {
  "kernelspec": {
   "display_name": "Python 3",
   "language": "python",
   "name": "python3"
  },
  "language_info": {
   "codemirror_mode": {
    "name": "ipython",
    "version": 3
   },
   "file_extension": ".py",
   "mimetype": "text/x-python",
   "name": "python",
   "nbconvert_exporter": "python",
   "pygments_lexer": "ipython3",
   "version": "3.11.5"
  },
  "orig_nbformat": 4
 },
 "nbformat": 4,
 "nbformat_minor": 2
}
