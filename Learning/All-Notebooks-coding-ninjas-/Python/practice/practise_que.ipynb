{
 "cells": [
  {
   "cell_type": "code",
   "execution_count": null,
   "metadata": {},
   "outputs": [],
   "source": [
    "\n",
    "\n",
    "class node:\n",
    "    def __init__(self, key):\n",
    "        self.key= key\n",
    "        self.left= None\n",
    "        self.right= None\n",
    "    \n",
    "    def findpath(root, path, k):\n",
    "        #base case\n",
    "        if root is None:\n",
    "            return False\n",
    "        path.append(root.key)\n",
    "    \n",
    "    #see k is same as root key\n",
    "        if root.key==k:\n",
    "            return True\n",
    "    #check k is found in left or right subtree\n",
    "\n",
    "        if ((root.left != None and findpath(root.left,path,k)) or\n",
    "            (root.right !=None and findpath(root.right,path,k)))\n",
    "            return True\n",
    "        \n",
    "        path.pop()\n",
    "        return False\n",
    "    \n",
    "    # Returns LCA if node n1 , n2 are present in the given\n",
    "    # binary tree otherwise return -1\n",
    "\n",
    "    def findLCA(root,n1,n2):\n",
    "        path1=[]\n",
    "        path2=[]\n",
    "        \n",
    "        if (not findpath(root, path1,n1) or not findpath(root,path2,n2)):\n",
    "            return -1\n",
    "            \n",
    "\n",
    "        i=0\n",
    "    while(i< len(path1)and i<(path2)):\n",
    "        if path1[i] != path[i]:\n",
    "            break\n",
    "        i += 1\n",
    "        return path1[i-1]"
   ]
  }
 ],
 "metadata": {
  "language_info": {
   "name": "python"
  },
  "orig_nbformat": 4
 },
 "nbformat": 4,
 "nbformat_minor": 2
}
