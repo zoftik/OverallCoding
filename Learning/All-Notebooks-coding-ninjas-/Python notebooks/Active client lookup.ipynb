{
 "cells": [
  {
   "cell_type": "code",
   "execution_count": null,
   "id": "9c66c539",
   "metadata": {},
   "outputs": [],
   "source": [
    "import pandas as pd\n",
    "import numpy as np\n",
    "import pymysql as py\n",
    "import glob as os"
   ]
  },
  {
   "cell_type": "code",
   "execution_count": null,
   "id": "dec79b3b",
   "metadata": {},
   "outputs": [],
   "source": [
    "from IPython.core.interactiveshell import InteractiveShell\n",
    "InteractiveShell.ast_node_interactivity = \"all\"\n",
    "#pd.set_option('display.max_rows', 20)"
   ]
  },
  {
   "attachments": {},
   "cell_type": "markdown",
   "id": "05fa9149",
   "metadata": {},
   "source": [
    "# Load Data"
   ]
  },
  {
   "cell_type": "code",
   "execution_count": null,
   "id": "4b1e140a",
   "metadata": {},
   "outputs": [],
   "source": [
    "old1=pd.read_csv(r\"D:\\Python dataset\\2023\\RNPS\\CSV\\OLD Data\\Bank and Branch Digital Channel - Active Codes.csv\",encoding='cp1252')\n",
    "old2=pd.read_csv(r\"D:\\Python dataset\\2023\\RNPS\\CSV\\OLD Data\\Bank Channel - Active Codes.csv\",encoding='cp1252')\n",
    "old3=pd.read_csv(r\"D:\\Python dataset\\2023\\RNPS\\CSV\\OLD Data\\Other than Bank Channel - Active Codes.csv\",encoding='cp1252')\n",
    "new_closed=pd.read_csv(r\"D:\\Python dataset\\2023\\RNPS\\CSV\\New Data\\Closed.csv\",encoding='cp1252')\n",
    "new_inactive=pd.read_csv(r\"D:\\Python dataset\\2023\\RNPS\\CSV\\New Data\\Inactive Accounts.csv\",encoding='cp1252')\n",
    "new_dormant1=pd.read_csv(r\"D:\\Python dataset\\2023\\RNPS\\CSV\\New Data\\Dormant North.csv\",encoding='cp1252')\n",
    "new_dormant2=pd.read_csv(r\"D:\\Python dataset\\2023\\RNPS\\CSV\\New Data\\Dormant South.csv\",encoding='cp1252')\n",
    "new_dormant3=pd.read_csv(r\"D:\\Python dataset\\2023\\RNPS\\CSV\\New Data\\Dormant West.csv\",encoding='cp1252')\n",
    "new_dormant4=pd.read_csv(r\"D:\\Python dataset\\2023\\RNPS\\CSV\\New Data\\Dormant East.csv\",encoding='cp1252')"
   ]
  },
  {
   "attachments": {},
   "cell_type": "markdown",
   "id": "c905f333",
   "metadata": {},
   "source": [
    "# Old Queries Count"
   ]
  },
  {
   "cell_type": "code",
   "execution_count": null,
   "id": "27ea69fa",
   "metadata": {},
   "outputs": [],
   "source": [
    "old_queries = pd.concat([old1,old2,old3])\n",
    "old_queries.shape\n",
    "old_queries = old_queries.drop_duplicates()\n",
    "old_queries.shape"
   ]
  },
  {
   "attachments": {},
   "cell_type": "markdown",
   "id": "b3b1dbec",
   "metadata": {},
   "source": [
    "# New Dormant Count"
   ]
  },
  {
   "cell_type": "code",
   "execution_count": null,
   "id": "dafd2725",
   "metadata": {},
   "outputs": [],
   "source": [
    "new_dormant = pd.concat([new_dormant1,new_dormant2,new_dormant3,new_dormant4])\n",
    "new_dormant.shape\n",
    "new_dormant = new_dormant.drop_duplicates()\n",
    "new_dormant.shape"
   ]
  },
  {
   "attachments": {},
   "cell_type": "markdown",
   "id": "6c1e6118",
   "metadata": {},
   "source": [
    "# Overall New Queries"
   ]
  },
  {
   "cell_type": "code",
   "execution_count": null,
   "id": "38f7e568",
   "metadata": {},
   "outputs": [],
   "source": [
    "new_queries = pd.concat([new_dormant,new_closed,new_inactive])\n",
    "new_queries.shape\n",
    "new_queries = new_queries.drop_duplicates()\n",
    "new_queries.shape"
   ]
  },
  {
   "attachments": {},
   "cell_type": "markdown",
   "id": "934c0e39",
   "metadata": {},
   "source": [
    "# List Headers"
   ]
  },
  {
   "cell_type": "code",
   "execution_count": null,
   "id": "78517113",
   "metadata": {},
   "outputs": [],
   "source": [
    "# list(old_queries.head())\n",
    "# old_queries.shape"
   ]
  },
  {
   "cell_type": "code",
   "execution_count": null,
   "id": "74a416ee",
   "metadata": {},
   "outputs": [],
   "source": [
    "# list(new_dormant.head())\n",
    "# new_dormant.shape"
   ]
  },
  {
   "cell_type": "code",
   "execution_count": null,
   "id": "3713064f",
   "metadata": {},
   "outputs": [],
   "source": [
    "# list(new_queries.head())\n",
    "# new_queries.shape"
   ]
  },
  {
   "cell_type": "code",
   "execution_count": null,
   "id": "f07aa4a3",
   "metadata": {},
   "outputs": [],
   "source": [
    "old_queries = old_queries[['Row Labels','Client Active Status', 'Client Category','Client Introduction Date', 'Client Type',\n",
    "                           'Closure Date','Dealing Zone','Itms Status','Last Trade Date','Location Code','Mis Profit Center']]\n",
    "\n",
    "old_queries.shape\n",
    "\n",
    "# old_queries = old_queries[['Row Labels','Itms Status']]\n",
    "\n",
    "# old_queries.shape"
   ]
  },
  {
   "cell_type": "code",
   "execution_count": null,
   "id": "f61bfcf8",
   "metadata": {},
   "outputs": [],
   "source": [
    "# new_dormant = new_dormant[['Row Labels','Client Active Status', 'Client Introduction Date','Client Category', 'Dealing Zone', 'Last Trade Date','Mis Profit Center','Closure Date']]"
   ]
  },
  {
   "cell_type": "code",
   "execution_count": null,
   "id": "299395b2",
   "metadata": {},
   "outputs": [],
   "source": [
    "new_queries = new_queries[['Row Labels','Client Active Status', 'Client Category','Client Introduction Date', 'Client Type',\n",
    "                           'Closure Date','Dealing Zone','Itms Status','Last Trade Date','Location Code','Mis Profit Center']]\n",
    "new_queries.shape\n",
    "\n",
    "# new_queries = new_queries[['Row Labels','Itms Status']]\n",
    "# new_queries.shape"
   ]
  },
  {
   "attachments": {},
   "cell_type": "markdown",
   "id": "406cfc0b",
   "metadata": {},
   "source": [
    "# Difference"
   ]
  },
  {
   "cell_type": "code",
   "execution_count": null,
   "id": "03407850",
   "metadata": {},
   "outputs": [],
   "source": [
    "# df_diff= pd.concat([old_queries,new_queries]).drop_duplicates(keep=False)\n",
    "# df_diff.shape\n",
    "# old_queries.shape\n",
    "# new_queries.shape\n",
    "# # list(new_queries.head())"
   ]
  },
  {
   "attachments": {},
   "cell_type": "markdown",
   "id": "8e1def5e",
   "metadata": {},
   "source": [
    "# Keeping Client Code and Client Status"
   ]
  },
  {
   "cell_type": "code",
   "execution_count": null,
   "id": "f9f4feba",
   "metadata": {},
   "outputs": [],
   "source": [
    "new_queries = new_queries[['Row Labels','Client Active Status']]\n",
    "new_queries.rename(columns = {'Client Active Status':'Client_Active_Status_new_queries'}, inplace = True)\n",
    "\n",
    "new_queries.shape\n",
    "\n",
    "old_queries = old_queries[['Row Labels','Client Active Status']]\n",
    "old_queries.rename(columns = {'Client Active Status':'Client_Active_Status_old_queries'}, inplace = True)\n",
    "old_queries.shape\n",
    "list(old_queries.head())"
   ]
  },
  {
   "cell_type": "code",
   "execution_count": null,
   "id": "69b73a6c",
   "metadata": {},
   "outputs": [],
   "source": [
    "# df_diff= pd.concat([old_queries,new_queries]).drop_duplicates(keep=False)\n",
    "# df_diff.shape\n",
    "# list(new_queries.head())"
   ]
  },
  {
   "cell_type": "code",
   "execution_count": null,
   "id": "9e0128fd",
   "metadata": {},
   "outputs": [],
   "source": [
    "# pd.pivot_table(df_diff, index='Client Active Status',values='Row Labels', aggfunc=np.count_nonzero)"
   ]
  },
  {
   "cell_type": "code",
   "execution_count": null,
   "id": "5689b25e",
   "metadata": {},
   "outputs": [],
   "source": [
    "# df1=pd.DataFrame(old_queries)\n",
    "# df2=pd.DataFrame(new_queries)"
   ]
  },
  {
   "cell_type": "code",
   "execution_count": null,
   "id": "dc7b2fa3",
   "metadata": {},
   "outputs": [],
   "source": [
    "# df1['Client_Active_Status_old_queries']=df2['Client_Active_Status_new_queries'] #add status of df2 to df1"
   ]
  },
  {
   "cell_type": "code",
   "execution_count": null,
   "id": "aab8e090",
   "metadata": {},
   "outputs": [],
   "source": [
    "# df1['compare_status']= np.where(df1['Client Active Status']==df2['Client Active Status'],'True','False')\n",
    "# print df1"
   ]
  },
  {
   "cell_type": "code",
   "execution_count": null,
   "id": "ff7e6bca",
   "metadata": {},
   "outputs": [],
   "source": [
    "old_queries['Row Labels']=old_queries['Row Labels'].str.strip()\n",
    "new_queries['Row Labels']=new_queries['Row Labels'].str.strip()\n",
    "merge_clientcode= old_queries.merge(new_queries,on='Row Labels')\n",
    "merge_clientcode.shape\n",
    "# pd.pivot_table(old_queries, index='Client_Active_Status_old_queries',values='Row Labels', aggfunc=np.count_nonzero)"
   ]
  },
  {
   "cell_type": "code",
   "execution_count": null,
   "id": "3784d94f",
   "metadata": {},
   "outputs": [],
   "source": [
    "# merge_clientcode.head()\n",
    "# merge_clientcode.shape\n",
    "merge_clientcode.query('Client_Active_Status_new_queries != Client_Active_Status_old_queries')"
   ]
  },
  {
   "cell_type": "code",
   "execution_count": null,
   "id": "7823f7f1",
   "metadata": {},
   "outputs": [],
   "source": [
    "pd.pivot_table(merge_clientcode, index='Client_Active_Status_new_queries',values='Row Labels', aggfunc=np.count_nonzero)"
   ]
  },
  {
   "cell_type": "code",
   "execution_count": null,
   "id": "a40b032f",
   "metadata": {},
   "outputs": [],
   "source": []
  }
 ],
 "metadata": {
  "kernelspec": {
   "display_name": "Python 3 (ipykernel)",
   "language": "python",
   "name": "python3"
  },
  "language_info": {
   "codemirror_mode": {
    "name": "ipython",
    "version": 3
   },
   "file_extension": ".py",
   "mimetype": "text/x-python",
   "name": "python",
   "nbconvert_exporter": "python",
   "pygments_lexer": "ipython3",
   "version": "3.11.3"
  }
 },
 "nbformat": 4,
 "nbformat_minor": 5
}
