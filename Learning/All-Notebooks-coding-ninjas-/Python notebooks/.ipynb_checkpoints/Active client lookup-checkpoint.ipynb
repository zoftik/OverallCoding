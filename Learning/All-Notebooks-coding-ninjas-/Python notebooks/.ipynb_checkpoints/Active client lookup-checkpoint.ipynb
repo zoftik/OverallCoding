{
 "cells": [
  {
   "cell_type": "code",
   "execution_count": 1,
   "id": "9c66c539",
   "metadata": {},
   "outputs": [],
   "source": [
    "import pandas as pd\n",
    "import numpy as np\n",
    "import pymysql as py\n",
    "import glob as os"
   ]
  },
  {
   "cell_type": "code",
   "execution_count": 2,
   "id": "dec79b3b",
   "metadata": {},
   "outputs": [],
   "source": [
    "from IPython.core.interactiveshell import InteractiveShell\n",
    "InteractiveShell.ast_node_interactivity = \"all\"\n",
    "#pd.set_option('display.max_rows', 20)"
   ]
  },
  {
   "cell_type": "markdown",
   "id": "05fa9149",
   "metadata": {},
   "source": [
    "# Load Data"
   ]
  },
  {
   "cell_type": "code",
   "execution_count": 3,
   "id": "4b1e140a",
   "metadata": {},
   "outputs": [
    {
     "name": "stderr",
     "output_type": "stream",
     "text": [
      "C:\\Users\\ks23007\\AppData\\Local\\Temp\\ipykernel_16312\\1585248029.py:1: DtypeWarning: Columns (1,2,14,15,31,32,57,58) have mixed types. Specify dtype option on import or set low_memory=False.\n",
      "  old1=pd.read_csv(r\"D:\\Python dataset\\2023\\RNPS\\CSV\\OLD Data\\Bank and Branch Digital Channel - Active Codes.csv\",encoding='cp1252')\n",
      "C:\\Users\\ks23007\\AppData\\Local\\Temp\\ipykernel_16312\\1585248029.py:2: DtypeWarning: Columns (14,15,40,41,47) have mixed types. Specify dtype option on import or set low_memory=False.\n",
      "  old2=pd.read_csv(r\"D:\\Python dataset\\2023\\RNPS\\CSV\\OLD Data\\Bank Channel - Active Codes.csv\",encoding='cp1252')\n",
      "C:\\Users\\ks23007\\AppData\\Local\\Temp\\ipykernel_16312\\1585248029.py:3: DtypeWarning: Columns (47) have mixed types. Specify dtype option on import or set low_memory=False.\n",
      "  old3=pd.read_csv(r\"D:\\Python dataset\\2023\\RNPS\\CSV\\OLD Data\\Other than Bank Channel - Active Codes.csv\",encoding='cp1252')\n",
      "C:\\Users\\ks23007\\AppData\\Local\\Temp\\ipykernel_16312\\1585248029.py:4: DtypeWarning: Columns (14,15,47,76) have mixed types. Specify dtype option on import or set low_memory=False.\n",
      "  new_closed=pd.read_csv(r\"D:\\Python dataset\\2023\\RNPS\\CSV\\New Data\\Closed.csv\",encoding='cp1252')\n",
      "C:\\Users\\ks23007\\AppData\\Local\\Temp\\ipykernel_16312\\1585248029.py:5: DtypeWarning: Columns (14,15,47,76) have mixed types. Specify dtype option on import or set low_memory=False.\n",
      "  new_inactive=pd.read_csv(r\"D:\\Python dataset\\2023\\RNPS\\CSV\\New Data\\Inactive Accounts.csv\",encoding='cp1252')\n",
      "C:\\Users\\ks23007\\AppData\\Local\\Temp\\ipykernel_16312\\1585248029.py:6: DtypeWarning: Columns (14,15,47) have mixed types. Specify dtype option on import or set low_memory=False.\n",
      "  new_dormant1=pd.read_csv(r\"D:\\Python dataset\\2023\\RNPS\\CSV\\New Data\\Dormant North.csv\",encoding='cp1252')\n",
      "C:\\Users\\ks23007\\AppData\\Local\\Temp\\ipykernel_16312\\1585248029.py:7: DtypeWarning: Columns (14,15,47,76) have mixed types. Specify dtype option on import or set low_memory=False.\n",
      "  new_dormant2=pd.read_csv(r\"D:\\Python dataset\\2023\\RNPS\\CSV\\New Data\\Dormant South.csv\",encoding='cp1252')\n",
      "C:\\Users\\ks23007\\AppData\\Local\\Temp\\ipykernel_16312\\1585248029.py:8: DtypeWarning: Columns (14,15,47,76) have mixed types. Specify dtype option on import or set low_memory=False.\n",
      "  new_dormant3=pd.read_csv(r\"D:\\Python dataset\\2023\\RNPS\\CSV\\New Data\\Dormant West.csv\",encoding='cp1252')\n",
      "C:\\Users\\ks23007\\AppData\\Local\\Temp\\ipykernel_16312\\1585248029.py:9: DtypeWarning: Columns (14,15,47,76) have mixed types. Specify dtype option on import or set low_memory=False.\n",
      "  new_dormant4=pd.read_csv(r\"D:\\Python dataset\\2023\\RNPS\\CSV\\New Data\\Dormant East.csv\",encoding='cp1252')\n"
     ]
    }
   ],
   "source": [
    "old1=pd.read_csv(r\"D:\\Python dataset\\2023\\RNPS\\CSV\\OLD Data\\Bank and Branch Digital Channel - Active Codes.csv\",encoding='cp1252')\n",
    "old2=pd.read_csv(r\"D:\\Python dataset\\2023\\RNPS\\CSV\\OLD Data\\Bank Channel - Active Codes.csv\",encoding='cp1252')\n",
    "old3=pd.read_csv(r\"D:\\Python dataset\\2023\\RNPS\\CSV\\OLD Data\\Other than Bank Channel - Active Codes.csv\",encoding='cp1252')\n",
    "new_closed=pd.read_csv(r\"D:\\Python dataset\\2023\\RNPS\\CSV\\New Data\\Closed.csv\",encoding='cp1252')\n",
    "new_inactive=pd.read_csv(r\"D:\\Python dataset\\2023\\RNPS\\CSV\\New Data\\Inactive Accounts.csv\",encoding='cp1252')\n",
    "new_dormant1=pd.read_csv(r\"D:\\Python dataset\\2023\\RNPS\\CSV\\New Data\\Dormant North.csv\",encoding='cp1252')\n",
    "new_dormant2=pd.read_csv(r\"D:\\Python dataset\\2023\\RNPS\\CSV\\New Data\\Dormant South.csv\",encoding='cp1252')\n",
    "new_dormant3=pd.read_csv(r\"D:\\Python dataset\\2023\\RNPS\\CSV\\New Data\\Dormant West.csv\",encoding='cp1252')\n",
    "new_dormant4=pd.read_csv(r\"D:\\Python dataset\\2023\\RNPS\\CSV\\New Data\\Dormant East.csv\",encoding='cp1252')"
   ]
  },
  {
   "cell_type": "markdown",
   "id": "c905f333",
   "metadata": {},
   "source": [
    "# Old Queries Count"
   ]
  },
  {
   "cell_type": "code",
   "execution_count": 4,
   "id": "27ea69fa",
   "metadata": {},
   "outputs": [
    {
     "data": {
      "text/plain": [
       "(2077751, 75)"
      ]
     },
     "execution_count": 4,
     "metadata": {},
     "output_type": "execute_result"
    },
    {
     "data": {
      "text/plain": [
       "(2077751, 75)"
      ]
     },
     "execution_count": 4,
     "metadata": {},
     "output_type": "execute_result"
    }
   ],
   "source": [
    "old_queries = pd.concat([old1,old2,old3])\n",
    "old_queries.shape\n",
    "old_queries = old_queries.drop_duplicates()\n",
    "old_queries.shape"
   ]
  },
  {
   "cell_type": "markdown",
   "id": "b3b1dbec",
   "metadata": {},
   "source": [
    "# New Dormant Count"
   ]
  },
  {
   "cell_type": "code",
   "execution_count": 5,
   "id": "dafd2725",
   "metadata": {},
   "outputs": [
    {
     "data": {
      "text/plain": [
       "(2090680, 78)"
      ]
     },
     "execution_count": 5,
     "metadata": {},
     "output_type": "execute_result"
    },
    {
     "data": {
      "text/plain": [
       "(2090680, 78)"
      ]
     },
     "execution_count": 5,
     "metadata": {},
     "output_type": "execute_result"
    }
   ],
   "source": [
    "new_dormant = pd.concat([new_dormant1,new_dormant2,new_dormant3,new_dormant4])\n",
    "new_dormant.shape\n",
    "new_dormant = new_dormant.drop_duplicates()\n",
    "new_dormant.shape"
   ]
  },
  {
   "cell_type": "markdown",
   "id": "6c1e6118",
   "metadata": {},
   "source": [
    "# Overall New Queries"
   ]
  },
  {
   "cell_type": "code",
   "execution_count": 6,
   "id": "38f7e568",
   "metadata": {},
   "outputs": [
    {
     "data": {
      "text/plain": [
       "(3077158, 78)"
      ]
     },
     "execution_count": 6,
     "metadata": {},
     "output_type": "execute_result"
    },
    {
     "data": {
      "text/plain": [
       "(3077158, 78)"
      ]
     },
     "execution_count": 6,
     "metadata": {},
     "output_type": "execute_result"
    }
   ],
   "source": [
    "new_queries = pd.concat([new_dormant,new_closed,new_inactive])\n",
    "new_queries.shape\n",
    "new_queries = new_queries.drop_duplicates()\n",
    "new_queries.shape"
   ]
  },
  {
   "cell_type": "markdown",
   "id": "934c0e39",
   "metadata": {},
   "source": [
    "# List Headers"
   ]
  },
  {
   "cell_type": "code",
   "execution_count": null,
   "id": "78517113",
   "metadata": {},
   "outputs": [],
   "source": [
    "# list(old_queries.head())\n",
    "# old_queries.shape"
   ]
  },
  {
   "cell_type": "code",
   "execution_count": null,
   "id": "74a416ee",
   "metadata": {},
   "outputs": [],
   "source": [
    "# list(new_dormant.head())\n",
    "# new_dormant.shape"
   ]
  },
  {
   "cell_type": "code",
   "execution_count": null,
   "id": "3713064f",
   "metadata": {},
   "outputs": [],
   "source": [
    "# list(new_queries.head())\n",
    "# new_queries.shape"
   ]
  },
  {
   "cell_type": "code",
   "execution_count": 7,
   "id": "f07aa4a3",
   "metadata": {},
   "outputs": [
    {
     "data": {
      "text/plain": [
       "(2077751, 11)"
      ]
     },
     "execution_count": 7,
     "metadata": {},
     "output_type": "execute_result"
    }
   ],
   "source": [
    "old_queries = old_queries[['Row Labels','Client Active Status', 'Client Category','Client Introduction Date', 'Client Type',\n",
    "                           'Closure Date','Dealing Zone','Itms Status','Last Trade Date','Location Code','Mis Profit Center']]\n",
    "\n",
    "old_queries.shape"
   ]
  },
  {
   "cell_type": "code",
   "execution_count": 8,
   "id": "f61bfcf8",
   "metadata": {},
   "outputs": [],
   "source": [
    "# new_dormant = new_dormant[['Row Labels','Client Active Status', 'Client Introduction Date','Client Category', 'Dealing Zone', 'Last Trade Date','Mis Profit Center','Closure Date']]"
   ]
  },
  {
   "cell_type": "code",
   "execution_count": 9,
   "id": "299395b2",
   "metadata": {},
   "outputs": [
    {
     "data": {
      "text/plain": [
       "(3077158, 11)"
      ]
     },
     "execution_count": 9,
     "metadata": {},
     "output_type": "execute_result"
    }
   ],
   "source": [
    "new_queries = new_queries[['Row Labels','Client Active Status', 'Client Category','Client Introduction Date', 'Client Type',\n",
    "                           'Closure Date','Dealing Zone','Itms Status','Last Trade Date','Location Code','Mis Profit Center']]\n",
    "new_queries.shape"
   ]
  },
  {
   "cell_type": "markdown",
   "id": "406cfc0b",
   "metadata": {},
   "source": [
    "# Difference"
   ]
  },
  {
   "cell_type": "code",
   "execution_count": null,
   "id": "03407850",
   "metadata": {},
   "outputs": [],
   "source": [
    "# df_diff= pd.concat([old_queries,new_queries]).drop_duplicates(keep=False)\n",
    "# df_diff.shape\n",
    "# old_queries.shape\n",
    "# new_queries.shape\n",
    "# # list(new_queries.head())"
   ]
  },
  {
   "cell_type": "markdown",
   "id": "8e1def5e",
   "metadata": {},
   "source": [
    "# Keeping Client Code and Client Status"
   ]
  },
  {
   "cell_type": "code",
   "execution_count": 10,
   "id": "f9f4feba",
   "metadata": {},
   "outputs": [
    {
     "data": {
      "text/plain": [
       "(3077158, 2)"
      ]
     },
     "execution_count": 10,
     "metadata": {},
     "output_type": "execute_result"
    },
    {
     "data": {
      "text/plain": [
       "(2077751, 2)"
      ]
     },
     "execution_count": 10,
     "metadata": {},
     "output_type": "execute_result"
    }
   ],
   "source": [
    "new_queries = new_queries[['Row Labels','Client Active Status']]\n",
    "new_queries.rename(columns = {'Client Active Status':'Client_Active_Status_new_queries'}, inplace = True)\n",
    "\n",
    "new_queries.shape\n",
    "\n",
    "old_queries = old_queries[['Row Labels','Client Active Status']]\n",
    "old_queries.rename(columns = {'Client Active Status':'Client_Active_Status_old_queries'}, inplace = True)\n",
    "old_queries.shape"
   ]
  },
  {
   "cell_type": "code",
   "execution_count": null,
   "id": "69b73a6c",
   "metadata": {},
   "outputs": [],
   "source": [
    "# df_diff= pd.concat([old_queries,new_queries]).drop_duplicates(keep=False)\n",
    "# df_diff.shape\n",
    "# list(new_queries.head())"
   ]
  },
  {
   "cell_type": "code",
   "execution_count": null,
   "id": "9e0128fd",
   "metadata": {},
   "outputs": [],
   "source": [
    "# pd.pivot_table(df_diff, index='Client Active Status',values='Row Labels', aggfunc=np.count_nonzero)"
   ]
  },
  {
   "cell_type": "code",
   "execution_count": 12,
   "id": "5689b25e",
   "metadata": {},
   "outputs": [],
   "source": [
    "df1=pd.DataFrame(old_queries)\n",
    "df2=pd.DataFrame(new_queries)"
   ]
  },
  {
   "cell_type": "code",
   "execution_count": 13,
   "id": "dc7b2fa3",
   "metadata": {},
   "outputs": [
    {
     "name": "stderr",
     "output_type": "stream",
     "text": [
      "C:\\Users\\ks23007\\AppData\\Local\\Temp\\ipykernel_16312\\3119914392.py:1: FutureWarning: reindexing with a non-unique Index is deprecated and will raise in a future version.\n",
      "  df1['Client_Active_Status_old_queries']=df2['Client_Active_Status_new_queries'] #add status of df2 to df1\n"
     ]
    },
    {
     "ename": "ValueError",
     "evalue": "cannot reindex on an axis with duplicate labels",
     "output_type": "error",
     "traceback": [
      "\u001b[1;31m---------------------------------------------------------------------------\u001b[0m",
      "\u001b[1;31mValueError\u001b[0m                                Traceback (most recent call last)",
      "Cell \u001b[1;32mIn [13], line 1\u001b[0m\n\u001b[1;32m----> 1\u001b[0m \u001b[43mdf1\u001b[49m\u001b[43m[\u001b[49m\u001b[38;5;124;43m'\u001b[39;49m\u001b[38;5;124;43mClient_Active_Status_old_queries\u001b[39;49m\u001b[38;5;124;43m'\u001b[39;49m\u001b[43m]\u001b[49m\u001b[38;5;241m=\u001b[39mdf2[\u001b[38;5;124m'\u001b[39m\u001b[38;5;124mClient_Active_Status_new_queries\u001b[39m\u001b[38;5;124m'\u001b[39m]\n",
      "File \u001b[1;32mc:\\python\\lib\\site-packages\\pandas\\core\\frame.py:3655\u001b[0m, in \u001b[0;36mDataFrame.__setitem__\u001b[1;34m(self, key, value)\u001b[0m\n\u001b[0;32m   3652\u001b[0m     \u001b[38;5;28mself\u001b[39m\u001b[38;5;241m.\u001b[39m_setitem_array([key], value)\n\u001b[0;32m   3653\u001b[0m \u001b[38;5;28;01melse\u001b[39;00m:\n\u001b[0;32m   3654\u001b[0m     \u001b[38;5;66;03m# set column\u001b[39;00m\n\u001b[1;32m-> 3655\u001b[0m     \u001b[38;5;28;43mself\u001b[39;49m\u001b[38;5;241;43m.\u001b[39;49m\u001b[43m_set_item\u001b[49m\u001b[43m(\u001b[49m\u001b[43mkey\u001b[49m\u001b[43m,\u001b[49m\u001b[43m \u001b[49m\u001b[43mvalue\u001b[49m\u001b[43m)\u001b[49m\n",
      "File \u001b[1;32mc:\\python\\lib\\site-packages\\pandas\\core\\frame.py:3832\u001b[0m, in \u001b[0;36mDataFrame._set_item\u001b[1;34m(self, key, value)\u001b[0m\n\u001b[0;32m   3822\u001b[0m \u001b[38;5;28;01mdef\u001b[39;00m \u001b[38;5;21m_set_item\u001b[39m(\u001b[38;5;28mself\u001b[39m, key, value) \u001b[38;5;241m-\u001b[39m\u001b[38;5;241m>\u001b[39m \u001b[38;5;28;01mNone\u001b[39;00m:\n\u001b[0;32m   3823\u001b[0m     \u001b[38;5;124;03m\"\"\"\u001b[39;00m\n\u001b[0;32m   3824\u001b[0m \u001b[38;5;124;03m    Add series to DataFrame in specified column.\u001b[39;00m\n\u001b[0;32m   3825\u001b[0m \n\u001b[1;32m   (...)\u001b[0m\n\u001b[0;32m   3830\u001b[0m \u001b[38;5;124;03m    ensure homogeneity.\u001b[39;00m\n\u001b[0;32m   3831\u001b[0m \u001b[38;5;124;03m    \"\"\"\u001b[39;00m\n\u001b[1;32m-> 3832\u001b[0m     value \u001b[38;5;241m=\u001b[39m \u001b[38;5;28;43mself\u001b[39;49m\u001b[38;5;241;43m.\u001b[39;49m\u001b[43m_sanitize_column\u001b[49m\u001b[43m(\u001b[49m\u001b[43mvalue\u001b[49m\u001b[43m)\u001b[49m\n\u001b[0;32m   3834\u001b[0m     \u001b[38;5;28;01mif\u001b[39;00m (\n\u001b[0;32m   3835\u001b[0m         key \u001b[38;5;129;01min\u001b[39;00m \u001b[38;5;28mself\u001b[39m\u001b[38;5;241m.\u001b[39mcolumns\n\u001b[0;32m   3836\u001b[0m         \u001b[38;5;129;01mand\u001b[39;00m value\u001b[38;5;241m.\u001b[39mndim \u001b[38;5;241m==\u001b[39m \u001b[38;5;241m1\u001b[39m\n\u001b[0;32m   3837\u001b[0m         \u001b[38;5;129;01mand\u001b[39;00m \u001b[38;5;129;01mnot\u001b[39;00m is_extension_array_dtype(value)\n\u001b[0;32m   3838\u001b[0m     ):\n\u001b[0;32m   3839\u001b[0m         \u001b[38;5;66;03m# broadcast across multiple columns if necessary\u001b[39;00m\n\u001b[0;32m   3840\u001b[0m         \u001b[38;5;28;01mif\u001b[39;00m \u001b[38;5;129;01mnot\u001b[39;00m \u001b[38;5;28mself\u001b[39m\u001b[38;5;241m.\u001b[39mcolumns\u001b[38;5;241m.\u001b[39mis_unique \u001b[38;5;129;01mor\u001b[39;00m \u001b[38;5;28misinstance\u001b[39m(\u001b[38;5;28mself\u001b[39m\u001b[38;5;241m.\u001b[39mcolumns, MultiIndex):\n",
      "File \u001b[1;32mc:\\python\\lib\\site-packages\\pandas\\core\\frame.py:4535\u001b[0m, in \u001b[0;36mDataFrame._sanitize_column\u001b[1;34m(self, value)\u001b[0m\n\u001b[0;32m   4533\u001b[0m \u001b[38;5;66;03m# We can get there through loc single_block_path\u001b[39;00m\n\u001b[0;32m   4534\u001b[0m \u001b[38;5;28;01mif\u001b[39;00m \u001b[38;5;28misinstance\u001b[39m(value, (DataFrame, Series)):\n\u001b[1;32m-> 4535\u001b[0m     \u001b[38;5;28;01mreturn\u001b[39;00m \u001b[43m_reindex_for_setitem\u001b[49m\u001b[43m(\u001b[49m\u001b[43mvalue\u001b[49m\u001b[43m,\u001b[49m\u001b[43m \u001b[49m\u001b[38;5;28;43mself\u001b[39;49m\u001b[38;5;241;43m.\u001b[39;49m\u001b[43mindex\u001b[49m\u001b[43m)\u001b[49m\n\u001b[0;32m   4537\u001b[0m \u001b[38;5;28;01mif\u001b[39;00m is_list_like(value):\n\u001b[0;32m   4538\u001b[0m     com\u001b[38;5;241m.\u001b[39mrequire_length_match(value, \u001b[38;5;28mself\u001b[39m\u001b[38;5;241m.\u001b[39mindex)\n",
      "File \u001b[1;32mc:\\python\\lib\\site-packages\\pandas\\core\\frame.py:11008\u001b[0m, in \u001b[0;36m_reindex_for_setitem\u001b[1;34m(value, index)\u001b[0m\n\u001b[0;32m  11004\u001b[0m \u001b[38;5;28;01mexcept\u001b[39;00m \u001b[38;5;167;01mValueError\u001b[39;00m \u001b[38;5;28;01mas\u001b[39;00m err:\n\u001b[0;32m  11005\u001b[0m     \u001b[38;5;66;03m# raised in MultiIndex.from_tuples, see test_insert_error_msmgs\u001b[39;00m\n\u001b[0;32m  11006\u001b[0m     \u001b[38;5;28;01mif\u001b[39;00m \u001b[38;5;129;01mnot\u001b[39;00m value\u001b[38;5;241m.\u001b[39mindex\u001b[38;5;241m.\u001b[39mis_unique:\n\u001b[0;32m  11007\u001b[0m         \u001b[38;5;66;03m# duplicate axis\u001b[39;00m\n\u001b[1;32m> 11008\u001b[0m         \u001b[38;5;28;01mraise\u001b[39;00m err\n\u001b[0;32m  11010\u001b[0m     \u001b[38;5;28;01mraise\u001b[39;00m \u001b[38;5;167;01mTypeError\u001b[39;00m(\n\u001b[0;32m  11011\u001b[0m         \u001b[38;5;124m\"\u001b[39m\u001b[38;5;124mincompatible index of inserted column with frame index\u001b[39m\u001b[38;5;124m\"\u001b[39m\n\u001b[0;32m  11012\u001b[0m     ) \u001b[38;5;28;01mfrom\u001b[39;00m \u001b[38;5;21;01merr\u001b[39;00m\n\u001b[0;32m  11013\u001b[0m \u001b[38;5;28;01mreturn\u001b[39;00m reindexed_value\n",
      "File \u001b[1;32mc:\\python\\lib\\site-packages\\pandas\\core\\frame.py:11003\u001b[0m, in \u001b[0;36m_reindex_for_setitem\u001b[1;34m(value, index)\u001b[0m\n\u001b[0;32m  11001\u001b[0m \u001b[38;5;66;03m# GH#4107\u001b[39;00m\n\u001b[0;32m  11002\u001b[0m \u001b[38;5;28;01mtry\u001b[39;00m:\n\u001b[1;32m> 11003\u001b[0m     reindexed_value \u001b[38;5;241m=\u001b[39m \u001b[43mvalue\u001b[49m\u001b[38;5;241;43m.\u001b[39;49m\u001b[43mreindex\u001b[49m\u001b[43m(\u001b[49m\u001b[43mindex\u001b[49m\u001b[43m)\u001b[49m\u001b[38;5;241m.\u001b[39m_values\n\u001b[0;32m  11004\u001b[0m \u001b[38;5;28;01mexcept\u001b[39;00m \u001b[38;5;167;01mValueError\u001b[39;00m \u001b[38;5;28;01mas\u001b[39;00m err:\n\u001b[0;32m  11005\u001b[0m     \u001b[38;5;66;03m# raised in MultiIndex.from_tuples, see test_insert_error_msmgs\u001b[39;00m\n\u001b[0;32m  11006\u001b[0m     \u001b[38;5;28;01mif\u001b[39;00m \u001b[38;5;129;01mnot\u001b[39;00m value\u001b[38;5;241m.\u001b[39mindex\u001b[38;5;241m.\u001b[39mis_unique:\n\u001b[0;32m  11007\u001b[0m         \u001b[38;5;66;03m# duplicate axis\u001b[39;00m\n",
      "File \u001b[1;32mc:\\python\\lib\\site-packages\\pandas\\core\\series.py:4672\u001b[0m, in \u001b[0;36mSeries.reindex\u001b[1;34m(self, *args, **kwargs)\u001b[0m\n\u001b[0;32m   4668\u001b[0m         \u001b[38;5;28;01mraise\u001b[39;00m \u001b[38;5;167;01mTypeError\u001b[39;00m(\n\u001b[0;32m   4669\u001b[0m             \u001b[38;5;124m\"\u001b[39m\u001b[38;5;124m'\u001b[39m\u001b[38;5;124mindex\u001b[39m\u001b[38;5;124m'\u001b[39m\u001b[38;5;124m passed as both positional and keyword argument\u001b[39m\u001b[38;5;124m\"\u001b[39m\n\u001b[0;32m   4670\u001b[0m         )\n\u001b[0;32m   4671\u001b[0m     kwargs\u001b[38;5;241m.\u001b[39mupdate({\u001b[38;5;124m\"\u001b[39m\u001b[38;5;124mindex\u001b[39m\u001b[38;5;124m\"\u001b[39m: index})\n\u001b[1;32m-> 4672\u001b[0m \u001b[38;5;28;01mreturn\u001b[39;00m \u001b[38;5;28msuper\u001b[39m()\u001b[38;5;241m.\u001b[39mreindex(\u001b[38;5;241m*\u001b[39m\u001b[38;5;241m*\u001b[39mkwargs)\n",
      "File \u001b[1;32mc:\\python\\lib\\site-packages\\pandas\\core\\generic.py:4966\u001b[0m, in \u001b[0;36mNDFrame.reindex\u001b[1;34m(self, *args, **kwargs)\u001b[0m\n\u001b[0;32m   4963\u001b[0m     \u001b[38;5;28;01mreturn\u001b[39;00m \u001b[38;5;28mself\u001b[39m\u001b[38;5;241m.\u001b[39m_reindex_multi(axes, copy, fill_value)\n\u001b[0;32m   4965\u001b[0m \u001b[38;5;66;03m# perform the reindex on the axes\u001b[39;00m\n\u001b[1;32m-> 4966\u001b[0m \u001b[38;5;28;01mreturn\u001b[39;00m \u001b[38;5;28;43mself\u001b[39;49m\u001b[38;5;241;43m.\u001b[39;49m\u001b[43m_reindex_axes\u001b[49m\u001b[43m(\u001b[49m\n\u001b[0;32m   4967\u001b[0m \u001b[43m    \u001b[49m\u001b[43maxes\u001b[49m\u001b[43m,\u001b[49m\u001b[43m \u001b[49m\u001b[43mlevel\u001b[49m\u001b[43m,\u001b[49m\u001b[43m \u001b[49m\u001b[43mlimit\u001b[49m\u001b[43m,\u001b[49m\u001b[43m \u001b[49m\u001b[43mtolerance\u001b[49m\u001b[43m,\u001b[49m\u001b[43m \u001b[49m\u001b[43mmethod\u001b[49m\u001b[43m,\u001b[49m\u001b[43m \u001b[49m\u001b[43mfill_value\u001b[49m\u001b[43m,\u001b[49m\u001b[43m \u001b[49m\u001b[43mcopy\u001b[49m\n\u001b[0;32m   4968\u001b[0m \u001b[43m\u001b[49m\u001b[43m)\u001b[49m\u001b[38;5;241m.\u001b[39m__finalize__(\u001b[38;5;28mself\u001b[39m, method\u001b[38;5;241m=\u001b[39m\u001b[38;5;124m\"\u001b[39m\u001b[38;5;124mreindex\u001b[39m\u001b[38;5;124m\"\u001b[39m)\n",
      "File \u001b[1;32mc:\\python\\lib\\site-packages\\pandas\\core\\generic.py:4986\u001b[0m, in \u001b[0;36mNDFrame._reindex_axes\u001b[1;34m(self, axes, level, limit, tolerance, method, fill_value, copy)\u001b[0m\n\u001b[0;32m   4981\u001b[0m new_index, indexer \u001b[38;5;241m=\u001b[39m ax\u001b[38;5;241m.\u001b[39mreindex(\n\u001b[0;32m   4982\u001b[0m     labels, level\u001b[38;5;241m=\u001b[39mlevel, limit\u001b[38;5;241m=\u001b[39mlimit, tolerance\u001b[38;5;241m=\u001b[39mtolerance, method\u001b[38;5;241m=\u001b[39mmethod\n\u001b[0;32m   4983\u001b[0m )\n\u001b[0;32m   4985\u001b[0m axis \u001b[38;5;241m=\u001b[39m \u001b[38;5;28mself\u001b[39m\u001b[38;5;241m.\u001b[39m_get_axis_number(a)\n\u001b[1;32m-> 4986\u001b[0m obj \u001b[38;5;241m=\u001b[39m \u001b[43mobj\u001b[49m\u001b[38;5;241;43m.\u001b[39;49m\u001b[43m_reindex_with_indexers\u001b[49m\u001b[43m(\u001b[49m\n\u001b[0;32m   4987\u001b[0m \u001b[43m    \u001b[49m\u001b[43m{\u001b[49m\u001b[43maxis\u001b[49m\u001b[43m:\u001b[49m\u001b[43m \u001b[49m\u001b[43m[\u001b[49m\u001b[43mnew_index\u001b[49m\u001b[43m,\u001b[49m\u001b[43m \u001b[49m\u001b[43mindexer\u001b[49m\u001b[43m]\u001b[49m\u001b[43m}\u001b[49m\u001b[43m,\u001b[49m\n\u001b[0;32m   4988\u001b[0m \u001b[43m    \u001b[49m\u001b[43mfill_value\u001b[49m\u001b[38;5;241;43m=\u001b[39;49m\u001b[43mfill_value\u001b[49m\u001b[43m,\u001b[49m\n\u001b[0;32m   4989\u001b[0m \u001b[43m    \u001b[49m\u001b[43mcopy\u001b[49m\u001b[38;5;241;43m=\u001b[39;49m\u001b[43mcopy\u001b[49m\u001b[43m,\u001b[49m\n\u001b[0;32m   4990\u001b[0m \u001b[43m    \u001b[49m\u001b[43mallow_dups\u001b[49m\u001b[38;5;241;43m=\u001b[39;49m\u001b[38;5;28;43;01mFalse\u001b[39;49;00m\u001b[43m,\u001b[49m\n\u001b[0;32m   4991\u001b[0m \u001b[43m\u001b[49m\u001b[43m)\u001b[49m\n\u001b[0;32m   4992\u001b[0m \u001b[38;5;66;03m# If we've made a copy once, no need to make another one\u001b[39;00m\n\u001b[0;32m   4993\u001b[0m copy \u001b[38;5;241m=\u001b[39m \u001b[38;5;28;01mFalse\u001b[39;00m\n",
      "File \u001b[1;32mc:\\python\\lib\\site-packages\\pandas\\core\\generic.py:5032\u001b[0m, in \u001b[0;36mNDFrame._reindex_with_indexers\u001b[1;34m(self, reindexers, fill_value, copy, allow_dups)\u001b[0m\n\u001b[0;32m   5029\u001b[0m     indexer \u001b[38;5;241m=\u001b[39m ensure_platform_int(indexer)\n\u001b[0;32m   5031\u001b[0m \u001b[38;5;66;03m# TODO: speed up on homogeneous DataFrame objects (see _reindex_multi)\u001b[39;00m\n\u001b[1;32m-> 5032\u001b[0m new_data \u001b[38;5;241m=\u001b[39m \u001b[43mnew_data\u001b[49m\u001b[38;5;241;43m.\u001b[39;49m\u001b[43mreindex_indexer\u001b[49m\u001b[43m(\u001b[49m\n\u001b[0;32m   5033\u001b[0m \u001b[43m    \u001b[49m\u001b[43mindex\u001b[49m\u001b[43m,\u001b[49m\n\u001b[0;32m   5034\u001b[0m \u001b[43m    \u001b[49m\u001b[43mindexer\u001b[49m\u001b[43m,\u001b[49m\n\u001b[0;32m   5035\u001b[0m \u001b[43m    \u001b[49m\u001b[43maxis\u001b[49m\u001b[38;5;241;43m=\u001b[39;49m\u001b[43mbaxis\u001b[49m\u001b[43m,\u001b[49m\n\u001b[0;32m   5036\u001b[0m \u001b[43m    \u001b[49m\u001b[43mfill_value\u001b[49m\u001b[38;5;241;43m=\u001b[39;49m\u001b[43mfill_value\u001b[49m\u001b[43m,\u001b[49m\n\u001b[0;32m   5037\u001b[0m \u001b[43m    \u001b[49m\u001b[43mallow_dups\u001b[49m\u001b[38;5;241;43m=\u001b[39;49m\u001b[43mallow_dups\u001b[49m\u001b[43m,\u001b[49m\n\u001b[0;32m   5038\u001b[0m \u001b[43m    \u001b[49m\u001b[43mcopy\u001b[49m\u001b[38;5;241;43m=\u001b[39;49m\u001b[43mcopy\u001b[49m\u001b[43m,\u001b[49m\n\u001b[0;32m   5039\u001b[0m \u001b[43m\u001b[49m\u001b[43m)\u001b[49m\n\u001b[0;32m   5040\u001b[0m \u001b[38;5;66;03m# If we've made a copy once, no need to make another one\u001b[39;00m\n\u001b[0;32m   5041\u001b[0m copy \u001b[38;5;241m=\u001b[39m \u001b[38;5;28;01mFalse\u001b[39;00m\n",
      "File \u001b[1;32mc:\\python\\lib\\site-packages\\pandas\\core\\internals\\managers.py:676\u001b[0m, in \u001b[0;36mBaseBlockManager.reindex_indexer\u001b[1;34m(self, new_axis, indexer, axis, fill_value, allow_dups, copy, consolidate, only_slice, use_na_proxy)\u001b[0m\n\u001b[0;32m    674\u001b[0m \u001b[38;5;66;03m# some axes don't allow reindexing with dups\u001b[39;00m\n\u001b[0;32m    675\u001b[0m \u001b[38;5;28;01mif\u001b[39;00m \u001b[38;5;129;01mnot\u001b[39;00m allow_dups:\n\u001b[1;32m--> 676\u001b[0m     \u001b[38;5;28;43mself\u001b[39;49m\u001b[38;5;241;43m.\u001b[39;49m\u001b[43maxes\u001b[49m\u001b[43m[\u001b[49m\u001b[43maxis\u001b[49m\u001b[43m]\u001b[49m\u001b[38;5;241;43m.\u001b[39;49m\u001b[43m_validate_can_reindex\u001b[49m\u001b[43m(\u001b[49m\u001b[43mindexer\u001b[49m\u001b[43m)\u001b[49m\n\u001b[0;32m    678\u001b[0m \u001b[38;5;28;01mif\u001b[39;00m axis \u001b[38;5;241m>\u001b[39m\u001b[38;5;241m=\u001b[39m \u001b[38;5;28mself\u001b[39m\u001b[38;5;241m.\u001b[39mndim:\n\u001b[0;32m    679\u001b[0m     \u001b[38;5;28;01mraise\u001b[39;00m \u001b[38;5;167;01mIndexError\u001b[39;00m(\u001b[38;5;124m\"\u001b[39m\u001b[38;5;124mRequested axis not found in manager\u001b[39m\u001b[38;5;124m\"\u001b[39m)\n",
      "File \u001b[1;32mc:\\python\\lib\\site-packages\\pandas\\core\\indexes\\base.py:4121\u001b[0m, in \u001b[0;36mIndex._validate_can_reindex\u001b[1;34m(self, indexer)\u001b[0m\n\u001b[0;32m   4119\u001b[0m \u001b[38;5;66;03m# trying to reindex on an axis with duplicates\u001b[39;00m\n\u001b[0;32m   4120\u001b[0m \u001b[38;5;28;01mif\u001b[39;00m \u001b[38;5;129;01mnot\u001b[39;00m \u001b[38;5;28mself\u001b[39m\u001b[38;5;241m.\u001b[39m_index_as_unique \u001b[38;5;129;01mand\u001b[39;00m \u001b[38;5;28mlen\u001b[39m(indexer):\n\u001b[1;32m-> 4121\u001b[0m     \u001b[38;5;28;01mraise\u001b[39;00m \u001b[38;5;167;01mValueError\u001b[39;00m(\u001b[38;5;124m\"\u001b[39m\u001b[38;5;124mcannot reindex on an axis with duplicate labels\u001b[39m\u001b[38;5;124m\"\u001b[39m)\n",
      "\u001b[1;31mValueError\u001b[0m: cannot reindex on an axis with duplicate labels"
     ]
    }
   ],
   "source": [
    "df1['Client_Active_Status_old_queries']=df2['Client_Active_Status_new_queries'] #add status of df2 to df1"
   ]
  },
  {
   "cell_type": "code",
   "execution_count": null,
   "id": "aab8e090",
   "metadata": {},
   "outputs": [],
   "source": [
    "df1['compare_status']= np.where(df1['Client Active Status']==df2['Client Active Status'],'True','False')\n",
    "print df1"
   ]
  },
  {
   "cell_type": "code",
   "execution_count": null,
   "id": "ff7e6bca",
   "metadata": {},
   "outputs": [],
   "source": []
  }
 ],
 "metadata": {
  "kernelspec": {
   "display_name": "Python 3 (ipykernel)",
   "language": "python",
   "name": "python3"
  },
  "language_info": {
   "codemirror_mode": {
    "name": "ipython",
    "version": 3
   },
   "file_extension": ".py",
   "mimetype": "text/x-python",
   "name": "python",
   "nbconvert_exporter": "python",
   "pygments_lexer": "ipython3",
   "version": "3.9.0"
  }
 },
 "nbformat": 4,
 "nbformat_minor": 5
}
