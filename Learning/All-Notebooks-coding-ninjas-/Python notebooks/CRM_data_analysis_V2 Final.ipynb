{
 "cells": [
  {
   "cell_type": "code",
   "execution_count": 1,
   "metadata": {},
   "outputs": [],
   "source": [
    "import pandas as pd\n",
    "import numpy as np\n",
    "import pymysql as py"
   ]
  },
  {
   "cell_type": "code",
   "execution_count": 2,
   "metadata": {},
   "outputs": [],
   "source": [
    "from IPython.core.interactiveshell import InteractiveShell\n",
    "InteractiveShell.ast_node_interactivity = \"all\"\n",
    "#pd.set_option('display.max_rows', 20)"
   ]
  },
  {
   "cell_type": "markdown",
   "metadata": {},
   "source": [
    "# Data processing"
   ]
  },
  {
   "cell_type": "code",
   "execution_count": 6,
   "metadata": {},
   "outputs": [
    {
     "name": "stderr",
     "output_type": "stream",
     "text": [
      "C:\\Users\\ks23007\\AppData\\Local\\Temp\\ipykernel_13780\\324030792.py:1: DtypeWarning: Columns (4,13,14,17,18,22,23,24,25,26,27,29,30,31,32,33,34,35,36,49,50,51,53,54,55,56,57,58,60,61,65,72,73,74,75,77) have mixed types. Specify dtype option on import or set low_memory=False.\n",
      "  df1=pd.read_csv(r\"D:\\Python dataset\\2023\\CSV\\All Queires - Jan'23 Final.csv\",encoding='cp1252')\n",
      "C:\\Users\\ks23007\\AppData\\Local\\Temp\\ipykernel_13780\\324030792.py:2: DtypeWarning: Columns (4,13,14,17,18,22,23,24,25,26,27,29,30,31,32,33,34,35,36,53,54,55,56,57,58,60,61,65,66,72,73,74,75,77) have mixed types. Specify dtype option on import or set low_memory=False.\n",
      "  df2=pd.read_csv(r\"D:\\Python dataset\\2023\\CSV\\All Queries - Feb'23 Final.csv\",encoding='cp1252')\n",
      "C:\\Users\\ks23007\\AppData\\Local\\Temp\\ipykernel_13780\\324030792.py:3: DtypeWarning: Columns (0,4,13,14,17,18,22,23,24,25,26,27,29,30,31,32,33,34,35,36,49,50,51,53,54,55,56,57,58,60,61,65,72,73,74,75,77) have mixed types. Specify dtype option on import or set low_memory=False.\n",
      "  df3=pd.read_csv(r\"D:\\Python dataset\\2023\\CSV\\All Queries - Mar'23 Final.csv\",encoding='cp1252')\n",
      "C:\\Users\\ks23007\\AppData\\Local\\Temp\\ipykernel_13780\\324030792.py:4: DtypeWarning: Columns (0,4,13,14,17,18,22,23,24,25,26,27,29,30,31,32,33,34,35,36,49,50,51,53,54,55,56,57,58,61,65,66,72,73,74,75,77) have mixed types. Specify dtype option on import or set low_memory=False.\n",
      "  df4=pd.read_csv(r\"D:\\Python dataset\\2023\\CSV\\All Queries - Apr'23 Final.csv\",encoding='cp1252')\n"
     ]
    }
   ],
   "source": [
    "df1=pd.read_csv(r\"D:\\Python dataset\\2023\\CSV\\All Queires - Jan'23 Final.csv\",encoding='cp1252')\n",
    "df2=pd.read_csv(r\"D:\\Python dataset\\2023\\CSV\\All Queries - Feb'23 Final.csv\",encoding='cp1252')\n",
    "df3=pd.read_csv(r\"D:\\Python dataset\\2023\\CSV\\All Queries - Mar'23 Final.csv\",encoding='cp1252')\n",
    "df4=pd.read_csv(r\"D:\\Python dataset\\2023\\CSV\\All Queries - Apr'23 Final.csv\",encoding='cp1252')\n"
   ]
  },
  {
   "cell_type": "code",
   "execution_count": 7,
   "metadata": {},
   "outputs": [
    {
     "data": {
      "text/plain": [
       "(2645920, 82)"
      ]
     },
     "execution_count": 7,
     "metadata": {},
     "output_type": "execute_result"
    },
    {
     "data": {
      "text/plain": [
       "(2645830, 82)"
      ]
     },
     "execution_count": 7,
     "metadata": {},
     "output_type": "execute_result"
    }
   ],
   "source": [
    "df_queries = pd.concat([df1,df2,df3,df4])\n",
    "df_queries.shape\n",
    "df_queries = df_queries.drop_duplicates()\n",
    "df_queries.shape"
   ]
  },
  {
   "cell_type": "code",
   "execution_count": 8,
   "metadata": {},
   "outputs": [
    {
     "ename": "KeyError",
     "evalue": "\"['Month', 'Source2'] not in index\"",
     "output_type": "error",
     "traceback": [
      "\u001b[1;31m---------------------------------------------------------------------------\u001b[0m",
      "\u001b[1;31mKeyError\u001b[0m                                  Traceback (most recent call last)",
      "Cell \u001b[1;32mIn [8], line 1\u001b[0m\n\u001b[1;32m----> 1\u001b[0m df_queries \u001b[38;5;241m=\u001b[39m \u001b[43mdf_queries\u001b[49m\u001b[43m[\u001b[49m\u001b[43m[\u001b[49m\u001b[38;5;124;43m'\u001b[39;49m\u001b[38;5;124;43mUser Id\u001b[39;49m\u001b[38;5;124;43m'\u001b[39;49m\u001b[43m,\u001b[49m\u001b[38;5;124;43m'\u001b[39;49m\u001b[38;5;124;43mQuery Id\u001b[39;49m\u001b[38;5;124;43m'\u001b[39;49m\u001b[43m,\u001b[49m\u001b[43m \u001b[49m\u001b[38;5;124;43m'\u001b[39;49m\u001b[38;5;124;43mCreated Date\u001b[39;49m\u001b[38;5;124;43m'\u001b[39;49m\u001b[43m,\u001b[49m\u001b[38;5;124;43m'\u001b[39;49m\u001b[38;5;124;43mClient Code\u001b[39;49m\u001b[38;5;124;43m'\u001b[39;49m\u001b[43m,\u001b[49m\u001b[43m \u001b[49m\u001b[38;5;124;43m'\u001b[39;49m\u001b[38;5;124;43mSRNature\u001b[39;49m\u001b[38;5;124;43m'\u001b[39;49m\u001b[43m,\u001b[49m\u001b[43m \u001b[49m\u001b[38;5;124;43m'\u001b[39;49m\u001b[38;5;124;43mSeverity\u001b[39;49m\u001b[38;5;124;43m'\u001b[39;49m\u001b[43m,\u001b[49m\u001b[38;5;124;43m'\u001b[39;49m\u001b[38;5;124;43mEscalation Level\u001b[39;49m\u001b[38;5;124;43m'\u001b[39;49m\n\u001b[0;32m      2\u001b[0m \u001b[43m                    \u001b[49m\u001b[43m,\u001b[49m\u001b[38;5;124;43m'\u001b[39;49m\u001b[38;5;124;43mProduct\u001b[39;49m\u001b[38;5;124;43m'\u001b[39;49m\u001b[43m,\u001b[49m\u001b[43m \u001b[49m\u001b[38;5;124;43m'\u001b[39;49m\u001b[38;5;124;43mCallType Name\u001b[39;49m\u001b[38;5;124;43m'\u001b[39;49m\u001b[43m,\u001b[49m\u001b[43m \u001b[49m\u001b[38;5;124;43m'\u001b[39;49m\u001b[38;5;124;43mSubCallType Name\u001b[39;49m\u001b[38;5;124;43m'\u001b[39;49m\u001b[43m,\u001b[49m\u001b[43m \u001b[49m\u001b[38;5;124;43m'\u001b[39;49m\u001b[38;5;124;43mSource\u001b[39;49m\u001b[38;5;124;43m'\u001b[39;49m\u001b[43m,\u001b[49m\u001b[38;5;124;43m'\u001b[39;49m\u001b[38;5;124;43mTAT\u001b[39;49m\u001b[38;5;124;43m'\u001b[39;49m\u001b[43m,\u001b[49m\u001b[43m \u001b[49m\u001b[38;5;124;43m'\u001b[39;49m\u001b[38;5;124;43mLast Updated DateTime\u001b[39;49m\u001b[38;5;124;43m'\u001b[39;49m\u001b[43m,\u001b[49m\u001b[43m \u001b[49m\u001b[38;5;124;43m'\u001b[39;49m\u001b[38;5;124;43mMonth\u001b[39;49m\u001b[38;5;124;43m'\u001b[39;49m\u001b[43m,\u001b[49m\u001b[38;5;124;43m'\u001b[39;49m\u001b[38;5;124;43mStatus\u001b[39;49m\u001b[38;5;124;43m'\u001b[39;49m\u001b[43m,\u001b[49m\u001b[43m \u001b[49m\u001b[38;5;124;43m'\u001b[39;49m\u001b[38;5;124;43mSource2\u001b[39;49m\u001b[38;5;124;43m'\u001b[39;49m\u001b[43m]\u001b[49m\u001b[43m]\u001b[49m\n",
      "File \u001b[1;32mc:\\python\\lib\\site-packages\\pandas\\core\\frame.py:3511\u001b[0m, in \u001b[0;36mDataFrame.__getitem__\u001b[1;34m(self, key)\u001b[0m\n\u001b[0;32m   3509\u001b[0m     \u001b[38;5;28;01mif\u001b[39;00m is_iterator(key):\n\u001b[0;32m   3510\u001b[0m         key \u001b[38;5;241m=\u001b[39m \u001b[38;5;28mlist\u001b[39m(key)\n\u001b[1;32m-> 3511\u001b[0m     indexer \u001b[38;5;241m=\u001b[39m \u001b[38;5;28;43mself\u001b[39;49m\u001b[38;5;241;43m.\u001b[39;49m\u001b[43mcolumns\u001b[49m\u001b[38;5;241;43m.\u001b[39;49m\u001b[43m_get_indexer_strict\u001b[49m\u001b[43m(\u001b[49m\u001b[43mkey\u001b[49m\u001b[43m,\u001b[49m\u001b[43m \u001b[49m\u001b[38;5;124;43m\"\u001b[39;49m\u001b[38;5;124;43mcolumns\u001b[39;49m\u001b[38;5;124;43m\"\u001b[39;49m\u001b[43m)\u001b[49m[\u001b[38;5;241m1\u001b[39m]\n\u001b[0;32m   3513\u001b[0m \u001b[38;5;66;03m# take() does not accept boolean indexers\u001b[39;00m\n\u001b[0;32m   3514\u001b[0m \u001b[38;5;28;01mif\u001b[39;00m \u001b[38;5;28mgetattr\u001b[39m(indexer, \u001b[38;5;124m\"\u001b[39m\u001b[38;5;124mdtype\u001b[39m\u001b[38;5;124m\"\u001b[39m, \u001b[38;5;28;01mNone\u001b[39;00m) \u001b[38;5;241m==\u001b[39m \u001b[38;5;28mbool\u001b[39m:\n",
      "File \u001b[1;32mc:\\python\\lib\\site-packages\\pandas\\core\\indexes\\base.py:5796\u001b[0m, in \u001b[0;36mIndex._get_indexer_strict\u001b[1;34m(self, key, axis_name)\u001b[0m\n\u001b[0;32m   5793\u001b[0m \u001b[38;5;28;01melse\u001b[39;00m:\n\u001b[0;32m   5794\u001b[0m     keyarr, indexer, new_indexer \u001b[38;5;241m=\u001b[39m \u001b[38;5;28mself\u001b[39m\u001b[38;5;241m.\u001b[39m_reindex_non_unique(keyarr)\n\u001b[1;32m-> 5796\u001b[0m \u001b[38;5;28;43mself\u001b[39;49m\u001b[38;5;241;43m.\u001b[39;49m\u001b[43m_raise_if_missing\u001b[49m\u001b[43m(\u001b[49m\u001b[43mkeyarr\u001b[49m\u001b[43m,\u001b[49m\u001b[43m \u001b[49m\u001b[43mindexer\u001b[49m\u001b[43m,\u001b[49m\u001b[43m \u001b[49m\u001b[43maxis_name\u001b[49m\u001b[43m)\u001b[49m\n\u001b[0;32m   5798\u001b[0m keyarr \u001b[38;5;241m=\u001b[39m \u001b[38;5;28mself\u001b[39m\u001b[38;5;241m.\u001b[39mtake(indexer)\n\u001b[0;32m   5799\u001b[0m \u001b[38;5;28;01mif\u001b[39;00m \u001b[38;5;28misinstance\u001b[39m(key, Index):\n\u001b[0;32m   5800\u001b[0m     \u001b[38;5;66;03m# GH 42790 - Preserve name from an Index\u001b[39;00m\n",
      "File \u001b[1;32mc:\\python\\lib\\site-packages\\pandas\\core\\indexes\\base.py:5859\u001b[0m, in \u001b[0;36mIndex._raise_if_missing\u001b[1;34m(self, key, indexer, axis_name)\u001b[0m\n\u001b[0;32m   5856\u001b[0m     \u001b[38;5;28;01mraise\u001b[39;00m \u001b[38;5;167;01mKeyError\u001b[39;00m(\u001b[38;5;124mf\u001b[39m\u001b[38;5;124m\"\u001b[39m\u001b[38;5;124mNone of [\u001b[39m\u001b[38;5;132;01m{\u001b[39;00mkey\u001b[38;5;132;01m}\u001b[39;00m\u001b[38;5;124m] are in the [\u001b[39m\u001b[38;5;132;01m{\u001b[39;00maxis_name\u001b[38;5;132;01m}\u001b[39;00m\u001b[38;5;124m]\u001b[39m\u001b[38;5;124m\"\u001b[39m)\n\u001b[0;32m   5858\u001b[0m not_found \u001b[38;5;241m=\u001b[39m \u001b[38;5;28mlist\u001b[39m(ensure_index(key)[missing_mask\u001b[38;5;241m.\u001b[39mnonzero()[\u001b[38;5;241m0\u001b[39m]]\u001b[38;5;241m.\u001b[39munique())\n\u001b[1;32m-> 5859\u001b[0m \u001b[38;5;28;01mraise\u001b[39;00m \u001b[38;5;167;01mKeyError\u001b[39;00m(\u001b[38;5;124mf\u001b[39m\u001b[38;5;124m\"\u001b[39m\u001b[38;5;132;01m{\u001b[39;00mnot_found\u001b[38;5;132;01m}\u001b[39;00m\u001b[38;5;124m not in index\u001b[39m\u001b[38;5;124m\"\u001b[39m)\n",
      "\u001b[1;31mKeyError\u001b[0m: \"['Month', 'Source2'] not in index\""
     ]
    }
   ],
   "source": [
    "df_queries = df_queries[['User Id','Query Id', 'Created Date','Client Code', 'SRNature', 'Severity','Escalation Level'\n",
    "                    ,'Product', 'CallType Name', 'SubCallType Name', 'Source','TAT', 'Last Updated DateTime', 'Month','Status', 'Source2']]"
   ]
  },
  {
   "cell_type": "code",
   "execution_count": null,
   "metadata": {},
   "outputs": [],
   "source": [
    "df_queries.shape"
   ]
  },
  {
   "cell_type": "code",
   "execution_count": null,
   "metadata": {},
   "outputs": [],
   "source": [
    "df_queries.head()"
   ]
  },
  {
   "cell_type": "code",
   "execution_count": null,
   "metadata": {},
   "outputs": [],
   "source": [
    "df = df_queries"
   ]
  },
  {
   "cell_type": "code",
   "execution_count": null,
   "metadata": {},
   "outputs": [],
   "source": [
    "df['CallType Name'] = df['CallType Name'].str.strip()\n",
    "df['SubCallType Name'] = df['SubCallType Name'].str.strip()\n",
    "df['Source2'] = df['Source2'].str.strip()\n",
    "df['Product'] = df['Product'].str.strip()"
   ]
  },
  {
   "cell_type": "markdown",
   "metadata": {},
   "source": [
    "## Removing queries with \n",
    "### calltype = ['Auto Disposition']\n",
    "### subcalltype = ['Auto Disposition', 'Auto Dispose', 'No response from client']\n",
    "### source2 = ['Self service', 'Branch', 'Escalation' ]\n",
    "### product = ['Dummy_KSEC']"
   ]
  },
  {
   "cell_type": "code",
   "execution_count": null,
   "metadata": {},
   "outputs": [],
   "source": [
    "calltype = ['Auto Disposition']\n",
    "subcalltype = ['Auto Disposition', 'Auto Dispose', 'No response from client']\n",
    "source2 = ['Self service', 'Branch', 'Escalation' ]\n",
    "product = ['Dummy_KSEC']"
   ]
  },
  {
   "cell_type": "code",
   "execution_count": null,
   "metadata": {},
   "outputs": [],
   "source": [
    "df = df[~df['CallType Name'].isin(calltype)]\n",
    "df = df[~df['SubCallType Name'].isin(subcalltype)]\n",
    "df = df[~df['Source2'].isin(source2)]\n",
    "df = df[~df['Product'].isin(product)]  "
   ]
  },
  {
   "cell_type": "code",
   "execution_count": null,
   "metadata": {},
   "outputs": [],
   "source": [
    "print(df.shape)\n",
    "df.head()"
   ]
  },
  {
   "cell_type": "code",
   "execution_count": null,
   "metadata": {
    "scrolled": true
   },
   "outputs": [],
   "source": [
    "df.rename(columns = {'Client Code':'clientcode'}, inplace = True)"
   ]
  },
  {
   "cell_type": "code",
   "execution_count": null,
   "metadata": {},
   "outputs": [],
   "source": [
    "# Columns\n",
    "list(df.columns.values)"
   ]
  },
  {
   "cell_type": "markdown",
   "metadata": {},
   "source": [
    "# Source analysis"
   ]
  },
  {
   "cell_type": "code",
   "execution_count": null,
   "metadata": {},
   "outputs": [],
   "source": [
    "pd.pivot_table(df, index=\"Month\", columns=\"Source2\",values=\"Query Id\", aggfunc=np.count_nonzero)"
   ]
  },
  {
   "cell_type": "code",
   "execution_count": null,
   "metadata": {},
   "outputs": [],
   "source": [
    "# Value counts\n",
    "pd.DataFrame(df['Source2'].value_counts())"
   ]
  },
  {
   "cell_type": "code",
   "execution_count": null,
   "metadata": {},
   "outputs": [],
   "source": [
    "#Distinct counts\n",
    "pd.DataFrame(df.groupby('Source2').clientcode.nunique().sort_values(ascending=False))"
   ]
  },
  {
   "cell_type": "markdown",
   "metadata": {},
   "source": [
    "# Mapping source2 to Phone/Email/Livechat"
   ]
  },
  {
   "cell_type": "code",
   "execution_count": null,
   "metadata": {},
   "outputs": [],
   "source": [
    "df.head()"
   ]
  },
  {
   "cell_type": "code",
   "execution_count": null,
   "metadata": {},
   "outputs": [],
   "source": [
    "df['channel'] = np.where(df['Source2'].isin(['Inbound', 'Outbound']), 'Phone',\n",
    "                   np.where(df['Source2'].isin(['Email','PCG']), 'Email',\n",
    "                   np.where(df['Source2'].isin(['Chat']), 'Livechat', 'Others')))"
   ]
  },
  {
   "cell_type": "markdown",
   "metadata": {},
   "source": [
    "# Overall counts"
   ]
  },
  {
   "cell_type": "code",
   "execution_count": null,
   "metadata": {
    "scrolled": true
   },
   "outputs": [],
   "source": [
    "pd.DataFrame(df.groupby(['channel']).clientcode.nunique().sort_values(ascending=False))"
   ]
  },
  {
   "cell_type": "code",
   "execution_count": null,
   "metadata": {},
   "outputs": [],
   "source": [
    "pd.DataFrame(df['channel'].value_counts())"
   ]
  },
  {
   "cell_type": "markdown",
   "metadata": {},
   "source": [
    "# Channel analysis"
   ]
  },
  {
   "cell_type": "code",
   "execution_count": null,
   "metadata": {},
   "outputs": [],
   "source": [
    "df2=df[df['channel'].isin(['Phone','Email','Livechat'])]"
   ]
  },
  {
   "cell_type": "code",
   "execution_count": null,
   "metadata": {},
   "outputs": [],
   "source": [
    "df2.shape"
   ]
  },
  {
   "cell_type": "code",
   "execution_count": null,
   "metadata": {},
   "outputs": [],
   "source": [
    "df2.head()"
   ]
  },
  {
   "cell_type": "code",
   "execution_count": null,
   "metadata": {},
   "outputs": [],
   "source": [
    "#Distinct counts\n",
    "pd.DataFrame(df2.groupby(['Month','channel']).clientcode.nunique().sort_values(ascending=False))"
   ]
  },
  {
   "cell_type": "code",
   "execution_count": null,
   "metadata": {},
   "outputs": [],
   "source": [
    "# Value counts\n",
    "pd.DataFrame(df2.groupby(['Month','channel']).value_counts())"
   ]
  },
  {
   "cell_type": "markdown",
   "metadata": {},
   "source": [
    "# MOM Analysis"
   ]
  },
  {
   "cell_type": "code",
   "execution_count": null,
   "metadata": {},
   "outputs": [],
   "source": [
    "# query counts\n",
    "pd.DataFrame(df2.groupby(['Month', 'channel']).clientcode.count().sort_values(ascending=False))"
   ]
  },
  {
   "cell_type": "code",
   "execution_count": null,
   "metadata": {},
   "outputs": [],
   "source": [
    "# client counts\n",
    "pd.DataFrame(df2.groupby(['Month', 'channel']).clientcode.nunique().sort_values(ascending=False))\n"
   ]
  },
  {
   "cell_type": "code",
   "execution_count": null,
   "metadata": {},
   "outputs": [],
   "source": [
    "#unique counts and count1\n",
    "df2.groupby([ 'channel','Month']).agg({'clientcode': ['nunique', 'count']})"
   ]
  },
  {
   "cell_type": "markdown",
   "metadata": {},
   "source": [
    "# MOM top queries"
   ]
  },
  {
   "cell_type": "code",
   "execution_count": null,
   "metadata": {
    "scrolled": true,
    "tags": []
   },
   "outputs": [],
   "source": [
    "# Value counts\n",
    "pd.DataFrame(df2['Product'].value_counts())"
   ]
  },
  {
   "cell_type": "code",
   "execution_count": null,
   "metadata": {},
   "outputs": [],
   "source": [
    "df2['query_count']=1\n",
    "df2.head()"
   ]
  },
  {
   "cell_type": "code",
   "execution_count": null,
   "metadata": {},
   "outputs": [],
   "source": [
    "pivot_merge = pd.pivot_table(df2,index=['Month', 'clientcode', 'Product', 'channel'],values=['query_count'],aggfunc=np.sum)\n",
    "pivot_merge.reset_index(inplace=True)\n",
    "pivot_merge.head()\n",
    "pivot_merge.shape"
   ]
  },
  {
   "cell_type": "markdown",
   "metadata": {},
   "source": [
    "# Repeat Customers"
   ]
  },
  {
   "cell_type": "code",
   "execution_count": null,
   "metadata": {},
   "outputs": [],
   "source": [
    "df_repeat = df2.groupby([ 'Month','clientcode']).agg({'channel': ['nunique']})\n",
    "df_repeat=df_repeat.reset_index()\n",
    "df_repeat.columns = df_repeat.columns.droplevel()\n",
    "df_repeat.columns = ['month', 'clientcode', 'no_of_sources']"
   ]
  },
  {
   "cell_type": "code",
   "execution_count": null,
   "metadata": {},
   "outputs": [],
   "source": [
    "df_repeat.columns"
   ]
  },
  {
   "cell_type": "code",
   "execution_count": null,
   "metadata": {},
   "outputs": [],
   "source": [
    "df_repeat.head()"
   ]
  },
  {
   "cell_type": "markdown",
   "metadata": {},
   "source": [
    "# Omni channel Analysis"
   ]
  },
  {
   "cell_type": "code",
   "execution_count": null,
   "metadata": {},
   "outputs": [],
   "source": [
    "df_repeat[df_repeat['no_of_sources']>=3].groupby([ 'month']).agg({'clientcode': ['count']}).transpose()"
   ]
  },
  {
   "cell_type": "code",
   "execution_count": null,
   "metadata": {},
   "outputs": [],
   "source": [
    "df_repeat[df_repeat['no_of_sources']==2].groupby([ 'month']).agg({'clientcode': ['count']}).transpose()"
   ]
  },
  {
   "cell_type": "code",
   "execution_count": null,
   "metadata": {},
   "outputs": [],
   "source": [
    "df_repeat[df_repeat['no_of_sources']==1].groupby([ 'month']).agg({'clientcode': ['count']}).transpose()"
   ]
  },
  {
   "cell_type": "markdown",
   "metadata": {},
   "source": [
    "### Repeat clients queries"
   ]
  },
  {
   "cell_type": "code",
   "execution_count": null,
   "metadata": {},
   "outputs": [],
   "source": [
    "df3=df2.merge(df_repeat, on='clientcode', how='left')"
   ]
  },
  {
   "cell_type": "code",
   "execution_count": null,
   "metadata": {},
   "outputs": [],
   "source": [
    "df3.head()"
   ]
  },
  {
   "cell_type": "code",
   "execution_count": null,
   "metadata": {},
   "outputs": [],
   "source": [
    "df3.columns"
   ]
  },
  {
   "cell_type": "code",
   "execution_count": null,
   "metadata": {},
   "outputs": [],
   "source": [
    "pd.DataFrame(df3[df3['no_of_sources']==3].groupby('Product').clientcode.nunique().sort_values(ascending=False))"
   ]
  },
  {
   "cell_type": "code",
   "execution_count": null,
   "metadata": {},
   "outputs": [],
   "source": [
    "df2['query']  = df2['Product']+'/'+df2['CallType Name']+'/'+df2['SubCallType Name']"
   ]
  },
  {
   "cell_type": "code",
   "execution_count": null,
   "metadata": {},
   "outputs": [],
   "source": [
    "df2.shape"
   ]
  },
  {
   "cell_type": "code",
   "execution_count": null,
   "metadata": {},
   "outputs": [],
   "source": [
    "### Avg query per client"
   ]
  },
  {
   "cell_type": "code",
   "execution_count": null,
   "metadata": {},
   "outputs": [],
   "source": [
    "pd.DataFrame(df2.groupby(['clientcode']).query_count.sum().sort_values(ascending=False)).head()"
   ]
  },
  {
   "cell_type": "code",
   "execution_count": null,
   "metadata": {},
   "outputs": [],
   "source": [
    "df_clean_queries=df2[~df2['clientcode'].isin(['123NW', '123DP'])]"
   ]
  },
  {
   "cell_type": "code",
   "execution_count": null,
   "metadata": {},
   "outputs": [],
   "source": [
    "df_clean_queries.dtypes"
   ]
  },
  {
   "cell_type": "code",
   "execution_count": null,
   "metadata": {},
   "outputs": [],
   "source": [
    "df_clean_queries['Created Date'] = pd.to_datetime(df_clean_queries['Created Date'])"
   ]
  },
  {
   "cell_type": "code",
   "execution_count": null,
   "metadata": {},
   "outputs": [],
   "source": [
    "df_clean_queries.head()"
   ]
  },
  {
   "cell_type": "code",
   "execution_count": null,
   "metadata": {},
   "outputs": [],
   "source": [
    "# Total no of queries no of source wise MOM\n",
    "for i in ['Jun-22', 'Jul-22','Aug-22']:\n",
    "    print(i)\n",
    "    pd.DataFrame(df_clean_queries.loc[df_clean_queries.clientcode.isin(df_repeat[(df_repeat['no_of_sources']==2) & (df_repeat['month']==i)]['clientcode'])]\n",
    "            ).clientcode.nunique()"
   ]
  },
  {
   "cell_type": "code",
   "execution_count": null,
   "metadata": {},
   "outputs": [],
   "source": [
    "# No of queries no_of_sources wise MOM\n",
    "for i in ['Jun-22', 'Jul-22','Aug-22']:\n",
    "    print(i)\n",
    "    pd.DataFrame(df_clean_queries.loc[df_clean_queries.clientcode.isin(df_repeat[(df_repeat['no_of_sources']==1) & (df_repeat['month']==i)]['clientcode'])]\n",
    "            ).groupby(['Month']).query_count.sum().sort_values(ascending=False)"
   ]
  },
  {
   "cell_type": "code",
   "execution_count": null,
   "metadata": {},
   "outputs": [],
   "source": [
    "#query by clients using >=2 channels "
   ]
  },
  {
   "cell_type": "code",
   "execution_count": null,
   "metadata": {},
   "outputs": [],
   "source": [
    "# No of queries no_of_sources wise MOM\n",
    "pd.DataFrame(df_clean_queries.loc[df_clean_queries.clientcode.isin(df_repeat[(df_repeat['no_of_sources']==2) & (df_repeat['month']=='Aug-22')]['clientcode'])]\n",
    "            ).groupby(['Month','query']).query_count.sum().sort_values(ascending=False).head(10)"
   ]
  },
  {
   "cell_type": "code",
   "execution_count": null,
   "metadata": {},
   "outputs": [],
   "source": [
    "pd.DataFrame(df_clean_queries.loc[df_clean_queries.clientcode.isin(df_repeat[(df_repeat['no_of_sources']==2) & (df_repeat['month']=='Jun-22')]['clientcode'])]\n",
    "            ).groupby(['Month','query']).clientcode.nunique().sort_values(ascending=False).head(10)"
   ]
  },
  {
   "cell_type": "code",
   "execution_count": null,
   "metadata": {},
   "outputs": [],
   "source": [
    "pd.DataFrame(df_clean_queries.loc[df_clean_queries.clientcode.isin(df_repeat[(df_repeat['no_of_sources']==2) & (df_repeat['month']=='Jul-22')]['clientcode'])]\n",
    "            ).groupby(['Month','query']).clientcode.nunique().sort_values(ascending=False).head(10).to_clipboard()"
   ]
  },
  {
   "cell_type": "code",
   "execution_count": null,
   "metadata": {},
   "outputs": [],
   "source": [
    "multiple_query= df_clean_queries.groupby(['Month','clientcode', 'query']).agg({'query_count': 'sum', 'channel': 'nunique', 'Created Date':['min','max'] })"
   ]
  },
  {
   "cell_type": "code",
   "execution_count": null,
   "metadata": {},
   "outputs": [],
   "source": [
    "multiple_query.reset_index(inplace=True)"
   ]
  },
  {
   "cell_type": "code",
   "execution_count": null,
   "metadata": {},
   "outputs": [],
   "source": [
    "multiple_query.columns = multiple_query.columns.droplevel()"
   ]
  },
  {
   "cell_type": "code",
   "execution_count": null,
   "metadata": {},
   "outputs": [],
   "source": [
    "multiple_query.columns = [    'Month','clientcode', 'query', 'query_count', 'channel', 'min_date', 'max_date']"
   ]
  },
  {
   "cell_type": "code",
   "execution_count": null,
   "metadata": {},
   "outputs": [],
   "source": [
    "multiple_query['avg_time'] = (multiple_query['max_date'] - multiple_query['min_date'])/multiple_query['query_count']"
   ]
  },
  {
   "cell_type": "code",
   "execution_count": null,
   "metadata": {},
   "outputs": [],
   "source": [
    "multiple_query['avg_time']= round(multiple_query['avg_time'].dt.total_seconds()/(3600.0),0)"
   ]
  },
  {
   "cell_type": "code",
   "execution_count": null,
   "metadata": {},
   "outputs": [],
   "source": [
    "multiple_query[multiple_query['query_count']>1].head()"
   ]
  },
  {
   "cell_type": "code",
   "execution_count": null,
   "metadata": {},
   "outputs": [],
   "source": [
    "#Total queries\n",
    "multiple_query.groupby(['Month']).query_count.sum()"
   ]
  },
  {
   "cell_type": "markdown",
   "metadata": {},
   "source": [
    "# Repeating queries"
   ]
  },
  {
   "cell_type": "code",
   "execution_count": null,
   "metadata": {},
   "outputs": [],
   "source": [
    "multiple_query[multiple_query['query_count']>=2].groupby(['Month']).query_count.sum()"
   ]
  },
  {
   "cell_type": "code",
   "execution_count": null,
   "metadata": {},
   "outputs": [],
   "source": [
    "for i in ['Jun-22', 'Jul-22','Aug-22']:\n",
    "    multiple_query[(multiple_query['Month']==i) & (multiple_query['query_count']>=2) ].groupby(['Month', 'channel']\n",
    "    ).query_count.sum().sort_values(ascending=False).head()"
   ]
  },
  {
   "cell_type": "code",
   "execution_count": null,
   "metadata": {},
   "outputs": [],
   "source": [
    "df_1 = pd.DataFrame(multiple_query[(multiple_query['Month']=='Jun-22') & (multiple_query['query_count']>=2) ].groupby(['Month', 'channel','query']\n",
    "    ).agg({'query_count': 'sum', 'clientcode': 'nunique', 'avg_time': 'mean'}))\n",
    "df_1.reset_index(inplace=True)"
   ]
  },
  {
   "cell_type": "code",
   "execution_count": null,
   "metadata": {},
   "outputs": [],
   "source": [
    "df_2 = pd.DataFrame(multiple_query[(multiple_query['Month']=='Jul-22') & (multiple_query['query_count']>=2) ].groupby(['Month', 'channel','query']\n",
    "    ).agg({'query_count': 'sum', 'clientcode': 'nunique','avg_time': 'mean'}))\n",
    "df_2.reset_index(inplace=True)"
   ]
  },
  {
   "cell_type": "code",
   "execution_count": null,
   "metadata": {},
   "outputs": [],
   "source": [
    "df_3 = pd.DataFrame(multiple_query[(multiple_query['Month']=='Aug-22') & (multiple_query['query_count']>=2) ].groupby(['Month', 'channel','query']\n",
    "    ).agg({'query_count': 'sum', 'clientcode': 'nunique','avg_time': 'mean'}))\n",
    "df_3.reset_index(inplace=True)"
   ]
  },
  {
   "cell_type": "code",
   "execution_count": null,
   "metadata": {},
   "outputs": [],
   "source": [
    "df_merge = pd.concat([df_1, df_2, df_3], ignore_index=True)"
   ]
  },
  {
   "cell_type": "code",
   "execution_count": null,
   "metadata": {},
   "outputs": [],
   "source": [
    "df_merge=df_merge.sort_values(by = 'query_count', ascending=False)"
   ]
  },
  {
   "cell_type": "code",
   "execution_count": null,
   "metadata": {},
   "outputs": [],
   "source": [
    "df_merge.head()"
   ]
  },
  {
   "cell_type": "code",
   "execution_count": null,
   "metadata": {},
   "outputs": [],
   "source": [
    "for i in ['Jun-22', 'Jul-22','Aug-22']:\n",
    "    pd.DataFrame(multiple_query[(multiple_query['Month']==i) & (multiple_query['query_count']>=2) ].groupby(['Month', 'channel']\n",
    "    ).agg({'query_count': 'sum', 'clientcode': 'nunique', 'avg_time': 'mean'})).sort_values(by = 'query_count' , ascending=False).head(5)"
   ]
  },
  {
   "cell_type": "code",
   "execution_count": null,
   "metadata": {},
   "outputs": [],
   "source": [
    "for i in ['Jun-22', 'Jul-22','Aug-22']:\n",
    "    for y in [1,2,3]:\n",
    "        pd.DataFrame(multiple_query[(multiple_query['Month']==i) & (multiple_query['query_count']>=2) & (multiple_query['channel']==y) ].groupby(['Month', 'channel','query']\n",
    "    ).agg({'query_count': 'sum', 'clientcode': 'nunique', 'avg_time': 'mean'})).sort_values(by = 'query_count' , ascending=False).head(5).reset_index()"
   ]
  },
  {
   "cell_type": "code",
   "execution_count": null,
   "metadata": {},
   "outputs": [],
   "source": [
    "pd.DataFrame(multiple_query[(multiple_query['Month']=='Aug-22') & (multiple_query['query_count']>=2) \n",
    "                            & (multiple_query['channel']==3) ])"
   ]
  },
  {
   "cell_type": "code",
   "execution_count": null,
   "metadata": {},
   "outputs": [],
   "source": [
    "multiple_query[(multiple_query['Month']=='Aug-22') & (multiple_query['query_count'] >2)\n",
    "                 & (multiple_query['query']=='Process & Updation [New]/Process and Updation/Activations in FNO Segment')]"
   ]
  },
  {
   "cell_type": "code",
   "execution_count": null,
   "metadata": {},
   "outputs": [],
   "source": [
    "df_clean_queries[(df_clean_queries['clientcode']=='8TC26')\n",
    "                 & (df_clean_queries['query']=='Process & Updation [New]/Process and Updation/Activations in FNO Segment')].head()"
   ]
  },
  {
   "cell_type": "code",
   "execution_count": null,
   "metadata": {},
   "outputs": [],
   "source": []
  },
  {
   "cell_type": "code",
   "execution_count": null,
   "metadata": {},
   "outputs": [],
   "source": []
  }
 ],
 "metadata": {
  "kernelspec": {
   "display_name": "Python 3 (ipykernel)",
   "language": "python",
   "name": "python3"
  },
  "language_info": {
   "codemirror_mode": {
    "name": "ipython",
    "version": 3
   },
   "file_extension": ".py",
   "mimetype": "text/x-python",
   "name": "python",
   "nbconvert_exporter": "python",
   "pygments_lexer": "ipython3",
   "version": "3.9.0"
  }
 },
 "nbformat": 4,
 "nbformat_minor": 4
}
