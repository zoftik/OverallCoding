{
 "cells": [
  {
   "cell_type": "code",
   "execution_count": 2,
   "metadata": {},
   "outputs": [],
   "source": [
    "import pandas as pd\n",
    "import numpy as np\n",
    "import pymysql as py\n",
    "import glob as os\n",
    "import matplotlib as plt"
   ]
  },
  {
   "cell_type": "code",
   "execution_count": 4,
   "metadata": {},
   "outputs": [],
   "source": [
    "from IPython.core.interactiveshell import InteractiveShell\n",
    "InteractiveShell.ast_node_interactivity = \"all\"\n",
    "#pd.set_option('display.max_rows', 20)"
   ]
  },
  {
   "attachments": {},
   "cell_type": "markdown",
   "metadata": {},
   "source": [
    "# Load Data"
   ]
  },
  {
   "cell_type": "code",
   "execution_count": 5,
   "metadata": {},
   "outputs": [
    {
     "name": "stderr",
     "output_type": "stream",
     "text": [
      "C:\\Users\\ks23007\\AppData\\Local\\Temp\\ipykernel_6736\\3029536362.py:1: DtypeWarning: Columns (1,2,14,15,31,32,57,58) have mixed types. Specify dtype option on import or set low_memory=False.\n",
      "  df1=pd.read_csv(r\"D:\\Python dataset\\2023\\RNPS\\CSV\\OLD Data\\Bank and Branch Digital Channel - Active Codes.csv\",encoding='cp1252')\n",
      "C:\\Users\\ks23007\\AppData\\Local\\Temp\\ipykernel_6736\\3029536362.py:2: DtypeWarning: Columns (14,15,40,41,47) have mixed types. Specify dtype option on import or set low_memory=False.\n",
      "  df2=pd.read_csv(r\"D:\\Python dataset\\2023\\RNPS\\CSV\\OLD Data\\Bank Channel - Active Codes.csv\",encoding='cp1252')\n",
      "C:\\Users\\ks23007\\AppData\\Local\\Temp\\ipykernel_6736\\3029536362.py:3: DtypeWarning: Columns (47) have mixed types. Specify dtype option on import or set low_memory=False.\n",
      "  df3=pd.read_csv(r\"D:\\Python dataset\\2023\\RNPS\\CSV\\OLD Data\\Other than Bank Channel - Active Codes.csv\",encoding='cp1252')\n",
      "C:\\Users\\ks23007\\AppData\\Local\\Temp\\ipykernel_6736\\3029536362.py:4: DtypeWarning: Columns (14,15,47,76) have mixed types. Specify dtype option on import or set low_memory=False.\n",
      "  df4=pd.read_csv(r\"D:\\Python dataset\\2023\\RNPS\\CSV\\New Data\\Closed.csv\",encoding='cp1252')\n",
      "C:\\Users\\ks23007\\AppData\\Local\\Temp\\ipykernel_6736\\3029536362.py:5: DtypeWarning: Columns (14,15,47,76) have mixed types. Specify dtype option on import or set low_memory=False.\n",
      "  df5=pd.read_csv(r\"D:\\Python dataset\\2023\\RNPS\\CSV\\New Data\\Inactive Accounts.csv\",encoding='cp1252')\n",
      "C:\\Users\\ks23007\\AppData\\Local\\Temp\\ipykernel_6736\\3029536362.py:6: DtypeWarning: Columns (14,15,47) have mixed types. Specify dtype option on import or set low_memory=False.\n",
      "  df6=pd.read_csv(r\"D:\\Python dataset\\2023\\RNPS\\CSV\\New Data\\Dormant North.csv\",encoding='cp1252')\n",
      "C:\\Users\\ks23007\\AppData\\Local\\Temp\\ipykernel_6736\\3029536362.py:7: DtypeWarning: Columns (14,15,47,76) have mixed types. Specify dtype option on import or set low_memory=False.\n",
      "  df7=pd.read_csv(r\"D:\\Python dataset\\2023\\RNPS\\CSV\\New Data\\Dormant South.csv\",encoding='cp1252')\n",
      "C:\\Users\\ks23007\\AppData\\Local\\Temp\\ipykernel_6736\\3029536362.py:8: DtypeWarning: Columns (14,15,47,76) have mixed types. Specify dtype option on import or set low_memory=False.\n",
      "  df8=pd.read_csv(r\"D:\\Python dataset\\2023\\RNPS\\CSV\\New Data\\Dormant West.csv\",encoding='cp1252')\n",
      "C:\\Users\\ks23007\\AppData\\Local\\Temp\\ipykernel_6736\\3029536362.py:9: DtypeWarning: Columns (14,15,47,76) have mixed types. Specify dtype option on import or set low_memory=False.\n",
      "  df9=pd.read_csv(r\"D:\\Python dataset\\2023\\RNPS\\CSV\\New Data\\Dormant East.csv\",encoding='cp1252')\n",
      "C:\\Users\\ks23007\\AppData\\Local\\Temp\\ipykernel_6736\\3029536362.py:15: DtypeWarning: Columns (14,17,18,22,23,24,26,27,29,30,31,32,33,34,35,36,57,58,60,65,72,73,74,75,77) have mixed types. Specify dtype option on import or set low_memory=False.\n",
      "  AQ5=pd.read_csv(r\"D:\\Python dataset\\2023\\CSV\\CS All queries - May'23.csv\",encoding='cp1252')\n"
     ]
    }
   ],
   "source": [
    "df1=pd.read_csv(r\"D:\\Python dataset\\2023\\RNPS\\CSV\\OLD Data\\Bank and Branch Digital Channel - Active Codes.csv\",encoding='cp1252')\n",
    "df2=pd.read_csv(r\"D:\\Python dataset\\2023\\RNPS\\CSV\\OLD Data\\Bank Channel - Active Codes.csv\",encoding='cp1252')\n",
    "df3=pd.read_csv(r\"D:\\Python dataset\\2023\\RNPS\\CSV\\OLD Data\\Other than Bank Channel - Active Codes.csv\",encoding='cp1252')\n",
    "df4=pd.read_csv(r\"D:\\Python dataset\\2023\\RNPS\\CSV\\New Data\\Closed.csv\",encoding='cp1252')\n",
    "df5=pd.read_csv(r\"D:\\Python dataset\\2023\\RNPS\\CSV\\New Data\\Inactive Accounts.csv\",encoding='cp1252')\n",
    "df6=pd.read_csv(r\"D:\\Python dataset\\2023\\RNPS\\CSV\\New Data\\Dormant North.csv\",encoding='cp1252')\n",
    "df7=pd.read_csv(r\"D:\\Python dataset\\2023\\RNPS\\CSV\\New Data\\Dormant South.csv\",encoding='cp1252')\n",
    "df8=pd.read_csv(r\"D:\\Python dataset\\2023\\RNPS\\CSV\\New Data\\Dormant West.csv\",encoding='cp1252')\n",
    "df9=pd.read_csv(r\"D:\\Python dataset\\2023\\RNPS\\CSV\\New Data\\Dormant East.csv\",encoding='cp1252')\n",
    "\n",
    "# AQ1=pd.read_csv(r\"D:\\Python dataset\\2023\\CSV\\CS All queries - Jan'23.csv\",encoding='cp1252')\n",
    "# AQ2=pd.read_csv(r\"D:\\Python dataset\\2023\\CSV\\CS All queries - Feb'23.csv\",encoding='cp1252')\n",
    "# AQ3=pd.read_csv(r\"D:\\Python dataset\\2023\\CSV\\CS All queries - Mar'23.csv\",encoding='cp1252')\n",
    "# AQ4=pd.read_csv(r\"D:\\Python dataset\\2023\\CSV\\CS All queries - Apr'23.csv\",encoding='cp1252')\n",
    "AQ5=pd.read_csv(r\"D:\\Python dataset\\2023\\CSV\\CS All queries - May'23.csv\",encoding='cp1252')"
   ]
  },
  {
   "attachments": {},
   "cell_type": "markdown",
   "metadata": {},
   "source": [
    "# Old Queries Count"
   ]
  },
  {
   "cell_type": "code",
   "execution_count": 6,
   "metadata": {},
   "outputs": [
    {
     "data": {
      "text/plain": [
       "(5154909, 79)"
      ]
     },
     "execution_count": 6,
     "metadata": {},
     "output_type": "execute_result"
    },
    {
     "data": {
      "text/plain": [
       "(258788, 88)"
      ]
     },
     "execution_count": 6,
     "metadata": {},
     "output_type": "execute_result"
    },
    {
     "data": {
      "text/plain": [
       "(5154909, 79)"
      ]
     },
     "execution_count": 6,
     "metadata": {},
     "output_type": "execute_result"
    },
    {
     "data": {
      "text/plain": [
       "(258788, 88)"
      ]
     },
     "execution_count": 6,
     "metadata": {},
     "output_type": "execute_result"
    }
   ],
   "source": [
    "df_queries = pd.concat([df1,df2,df3,df4,df5,df6,df7,df8,df9])\n",
    "aq_queries = pd.concat([AQ5])\n",
    "\n",
    "df_queries.shape\n",
    "aq_queries.shape\n",
    "\n",
    "df_queries = df_queries.drop_duplicates()\n",
    "aq_queries = aq_queries.drop_duplicates()\n",
    "\n",
    "df_queries.shape\n",
    "aq_queries.shape"
   ]
  },
  {
   "attachments": {},
   "cell_type": "markdown",
   "metadata": {},
   "source": [
    "# List Headers"
   ]
  },
  {
   "cell_type": "code",
   "execution_count": 7,
   "metadata": {},
   "outputs": [
    {
     "data": {
      "text/plain": [
       "['Client Code', 'Mis Profit Center']"
      ]
     },
     "execution_count": 7,
     "metadata": {},
     "output_type": "execute_result"
    }
   ],
   "source": [
    "\n",
    "df_queries.rename(columns = {'Row Labels':'Client Code'}, inplace = True)\n",
    "df_queries = df_queries[['Client Code','Mis Profit Center']]\n",
    "list(df_queries.head())\n",
    "# old_queries.shape\n",
    "#'Client Active Status'\n",
    "# 'Mis Profit Center'"
   ]
  },
  {
   "cell_type": "code",
   "execution_count": 8,
   "metadata": {},
   "outputs": [
    {
     "data": {
      "text/plain": [
       "['User Id',\n",
       " 'User Name',\n",
       " 'Query Id',\n",
       " 'Created Date',\n",
       " 'State Name',\n",
       " 'Client Code',\n",
       " 'DP Client ID',\n",
       " 'ClientLocation',\n",
       " 'EmailAddress',\n",
       " 'Product',\n",
       " 'CallType Name',\n",
       " 'SubCallType Name',\n",
       " 'Source',\n",
       " 'SRNature',\n",
       " 'Severity',\n",
       " 'Escalation Level',\n",
       " 'email_from',\n",
       " 'FWD_USERID',\n",
       " 'ReportingTo',\n",
       " 'Status',\n",
       " 'Reference ID',\n",
       " 'Print Flag',\n",
       " 'Last Printed By',\n",
       " 'Last Printed By Name',\n",
       " 'Last Printed Date time',\n",
       " 'Reporting To',\n",
       " 'Process On',\n",
       " 'Rejection Type',\n",
       " 'Base System Flag',\n",
       " 'DT Status',\n",
       " 'Branch DT Maker Id',\n",
       " 'Branch DT Maker Name',\n",
       " 'Branch DT Entry Date',\n",
       " 'Branch DT Dispatch Date',\n",
       " 'HO DT Recv By Id',\n",
       " 'HO DT Recv By Name',\n",
       " 'HO DT Recv Date',\n",
       " 'HO DT Maker Id',\n",
       " 'HO DT Maker Name',\n",
       " 'HO DT Entry Date',\n",
       " 'HO DT Dispatch Date',\n",
       " 'Branch DT Recv By Id',\n",
       " 'Branch DT Recv By Name',\n",
       " 'Branch DT Recv Date',\n",
       " 'Dispatch To Client By',\n",
       " 'Dispatch To Client By Id',\n",
       " 'Dispatch To Client By Name',\n",
       " 'Client Dispatch Date',\n",
       " 'Client Dispatch DT Entry Date',\n",
       " 'Last Updated By Id',\n",
       " 'Last Updated By Name',\n",
       " 'Last Updated By Location',\n",
       " 'Last Updated DateTime',\n",
       " 'E-City Name',\n",
       " 'E-Branch Name',\n",
       " 'E-Employee ID',\n",
       " 'E-Employee Name',\n",
       " 'ReceivedBy',\n",
       " 'ReceivedByType',\n",
       " 'Inward_Stamp_Dt',\n",
       " 'Email Received Date',\n",
       " 'Customer Category',\n",
       " 'First FollowUp Date',\n",
       " 'Received From Registered Mobile',\n",
       " 'Inter',\n",
       " 'Email_Id',\n",
       " 'Mobile_No',\n",
       " 'Account Opening Date',\n",
       " 'Stock Valuation',\n",
       " 'Servicing City',\n",
       " 'Servicing State',\n",
       " 'Servicing Zone',\n",
       " 'RM',\n",
       " 'TAT',\n",
       " 'Department Name',\n",
       " 'Calling Done',\n",
       " 'Communication Sent',\n",
       " 'email_category',\n",
       " 'Contact Id',\n",
       " 'client active status',\n",
       " 'closure date',\n",
       " 'last traded date',\n",
       " 'CallType NameSubCallType NameSource',\n",
       " 'Month',\n",
       " 'Date',\n",
       " 'Product|CallType Name|SubCallType Name',\n",
       " 'Source2',\n",
       " 'Organization']"
      ]
     },
     "execution_count": 8,
     "metadata": {},
     "output_type": "execute_result"
    }
   ],
   "source": [
    "list(aq_queries.head())\n",
    "# list(df_queries.head())\n",
    "# new_dormant.shape"
   ]
  },
  {
   "attachments": {},
   "cell_type": "markdown",
   "metadata": {},
   "source": [
    "# Difference"
   ]
  },
  {
   "cell_type": "code",
   "execution_count": 9,
   "metadata": {},
   "outputs": [],
   "source": [
    "# df_diff= pd.concat([old_queries,new_queries]).drop_duplicates(keep=False)\n",
    "# df_diff.shape\n",
    "# old_queries.shape\n",
    "# new_queries.shape\n",
    "# # list(new_queries.head())"
   ]
  },
  {
   "attachments": {},
   "cell_type": "markdown",
   "metadata": {},
   "source": [
    "# Keeping Client Code and Client Status"
   ]
  },
  {
   "cell_type": "code",
   "execution_count": 10,
   "metadata": {},
   "outputs": [
    {
     "data": {
      "text/plain": [
       "(207381, 89)"
      ]
     },
     "execution_count": 10,
     "metadata": {},
     "output_type": "execute_result"
    }
   ],
   "source": [
    "df_queries['Client Code']=df_queries['Client Code'].str.strip()\n",
    "aq_queries['Client Code']=aq_queries['Client Code'].str.strip()\n",
    "merge_clientcode= aq_queries.merge(df_queries,on='Client Code')\n",
    "merge_clientcode.shape\n",
    "# pd.pivot_table(old_queries, index='Client_Active_Status_old_queries',values='Row Labels', aggfunc=np.count_nonzero)"
   ]
  },
  {
   "cell_type": "code",
   "execution_count": 12,
   "metadata": {},
   "outputs": [
    {
     "data": {
      "text/plain": [
       "(207381, 89)"
      ]
     },
     "execution_count": 12,
     "metadata": {},
     "output_type": "execute_result"
    }
   ],
   "source": [
    "#  merge_clientcode.head()\n",
    "merge_clientcode.shape\n",
    "# merge_clientcode.query('Client_Active_Status_new_queries != Client_Active_Status_old_queries')"
   ]
  },
  {
   "cell_type": "code",
   "execution_count": 13,
   "metadata": {},
   "outputs": [
    {
     "data": {
      "text/html": [
       "<div>\n",
       "<style scoped>\n",
       "    .dataframe tbody tr th:only-of-type {\n",
       "        vertical-align: middle;\n",
       "    }\n",
       "\n",
       "    .dataframe tbody tr th {\n",
       "        vertical-align: top;\n",
       "    }\n",
       "\n",
       "    .dataframe thead th {\n",
       "        text-align: right;\n",
       "    }\n",
       "</style>\n",
       "<table border=\"1\" class=\"dataframe\">\n",
       "  <thead>\n",
       "    <tr style=\"text-align: right;\">\n",
       "      <th></th>\n",
       "      <th>Client Code</th>\n",
       "    </tr>\n",
       "    <tr>\n",
       "      <th>Mis Profit Center</th>\n",
       "      <th></th>\n",
       "    </tr>\n",
       "  </thead>\n",
       "  <tbody>\n",
       "    <tr>\n",
       "      <th>Bank Channel</th>\n",
       "      <td>59391</td>\n",
       "    </tr>\n",
       "    <tr>\n",
       "      <th>Bank Channel Digital</th>\n",
       "      <td>15995</td>\n",
       "    </tr>\n",
       "    <tr>\n",
       "      <th>Branch</th>\n",
       "      <td>36959</td>\n",
       "    </tr>\n",
       "    <tr>\n",
       "      <th>Branch Digital</th>\n",
       "      <td>53895</td>\n",
       "    </tr>\n",
       "    <tr>\n",
       "      <th>Branch Franchisee</th>\n",
       "      <td>1200</td>\n",
       "    </tr>\n",
       "    <tr>\n",
       "      <th>Commodity &amp; CDS</th>\n",
       "      <td>258</td>\n",
       "    </tr>\n",
       "    <tr>\n",
       "      <th>Franchisee</th>\n",
       "      <td>16007</td>\n",
       "    </tr>\n",
       "    <tr>\n",
       "      <th>Franchisee FE</th>\n",
       "      <td>1</td>\n",
       "    </tr>\n",
       "    <tr>\n",
       "      <th>PCG</th>\n",
       "      <td>23641</td>\n",
       "    </tr>\n",
       "    <tr>\n",
       "      <th>PCG Franchisee</th>\n",
       "      <td>34</td>\n",
       "    </tr>\n",
       "  </tbody>\n",
       "</table>\n",
       "</div>"
      ],
      "text/plain": [
       "                      Client Code\n",
       "Mis Profit Center                \n",
       "Bank Channel                59391\n",
       "Bank Channel Digital        15995\n",
       "Branch                      36959\n",
       "Branch Digital              53895\n",
       "Branch Franchisee            1200\n",
       "Commodity & CDS               258\n",
       "Franchisee                  16007\n",
       "Franchisee FE                   1\n",
       "PCG                         23641\n",
       "PCG Franchisee                 34"
      ]
     },
     "execution_count": 13,
     "metadata": {},
     "output_type": "execute_result"
    }
   ],
   "source": [
    "pd.pivot_table(merge_clientcode, index='Mis Profit Center',values='Client Code', aggfunc=np.count_nonzero)"
   ]
  },
  {
   "cell_type": "code",
   "execution_count": 14,
   "metadata": {},
   "outputs": [],
   "source": [
    "# merge_clientcode.to_excel(r\"D:\\Python dataset\\2023\\CSV\\Mapped MIS Profit center\\data.xlsx\",sheet_name='MIS Profit Center',index=False)"
   ]
  },
  {
   "cell_type": "code",
   "execution_count": 15,
   "metadata": {},
   "outputs": [],
   "source": [
    "table = pd.pivot_table(merge_clientcode, index='Mis Profit Center', columns={\"Organization\",\"Month\"},values=\"Query Id\", aggfunc=np.count_nonzero)"
   ]
  },
  {
   "cell_type": "code",
   "execution_count": 16,
   "metadata": {},
   "outputs": [],
   "source": [
    " merge_clientcode.to_csv(r\"D:\\Python dataset\\2023\\CSV\\Mapped MIS Profit center\\data1.csv\",index=False)"
   ]
  },
  {
   "cell_type": "code",
   "execution_count": null,
   "metadata": {},
   "outputs": [],
   "source": []
  }
 ],
 "metadata": {
  "kernelspec": {
   "display_name": "Python 3",
   "language": "python",
   "name": "python3"
  },
  "language_info": {
   "codemirror_mode": {
    "name": "ipython",
    "version": 3
   },
   "file_extension": ".py",
   "mimetype": "text/x-python",
   "name": "python",
   "nbconvert_exporter": "python",
   "pygments_lexer": "ipython3",
   "version": "3.11.3"
  },
  "orig_nbformat": 4
 },
 "nbformat": 4,
 "nbformat_minor": 2
}
