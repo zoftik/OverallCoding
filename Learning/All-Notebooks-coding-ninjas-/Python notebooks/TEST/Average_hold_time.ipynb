{
 "cells": [
  {
   "cell_type": "code",
   "execution_count": 1,
   "metadata": {},
   "outputs": [],
   "source": [
    "import pandas as pd\n",
    "import numpy as np\n",
    "import pymysql as py\n",
    "import glob as os\n",
    "import matplotlib.pyplot as plt\n",
    "plt.style.use('default')\n",
    "%matplotlib inline"
   ]
  },
  {
   "cell_type": "code",
   "execution_count": 2,
   "metadata": {},
   "outputs": [],
   "source": [
    "from IPython.core.interactiveshell import InteractiveShell\n",
    "InteractiveShell.ast_node_interactivity = \"all\"\n",
    "#pd.set_option('display.max_rows', 20)"
   ]
  },
  {
   "cell_type": "code",
   "execution_count": 3,
   "metadata": {},
   "outputs": [
    {
     "data": {
      "text/plain": [
       "(146915, 43)"
      ]
     },
     "execution_count": 3,
     "metadata": {},
     "output_type": "execute_result"
    },
    {
     "data": {
      "text/plain": [
       "(146881, 43)"
      ]
     },
     "execution_count": 3,
     "metadata": {},
     "output_type": "execute_result"
    },
    {
     "data": {
      "text/plain": [
       "['Date Time',\n",
       " 'Call Id',\n",
       " 'Phone Number',\n",
       " 'Customer DialedNumber',\n",
       " 'Campaign Name',\n",
       " 'Type',\n",
       " 'Ivr SelectedLanguage',\n",
       " 'User ID',\n",
       " 'Call Status',\n",
       " 'Wait Time',\n",
       " 'Agent DialTime',\n",
       " 'Agent RingTime',\n",
       " 'Agent TalkTime',\n",
       " 'Customer TalkTime',\n",
       " 'Hold Time',\n",
       " 'Hangup Reason',\n",
       " 'Customer Disconnect Reason',\n",
       " 'Hangup CauseCode',\n",
       " 'Agent Try',\n",
       " 'Wrap Time',\n",
       " 'Disposition',\n",
       " 'SubDisposition Category',\n",
       " 'SubDisposition SubCategory',\n",
       " 'Custom Disposition',\n",
       " 'Attempted Conference Calls',\n",
       " 'Final Conference Status',\n",
       " 'Final Conference Mode',\n",
       " 'Conference Agent AnsweredCalls',\n",
       " 'Conference Agents TotalSetuptime',\n",
       " 'Conference Agents TotalRingtime',\n",
       " 'Conference Agents TotalTalktime',\n",
       " 'Conference Customer Holdtime',\n",
       " 'Conference Customer Talktime',\n",
       " 'Spy Calls Attempted',\n",
       " 'Final Spy CallStatus',\n",
       " 'Spy Calls Admin Answered',\n",
       " 'Total Spy Call SetupTime',\n",
       " 'Total SpyCall Ringtime',\n",
       " 'Total SpyCall Talktime',\n",
       " 'IVR Time',\n",
       " 'Registered number entered',\n",
       " 'Authenticated Client Code',\n",
       " 'Client Code']"
      ]
     },
     "execution_count": 3,
     "metadata": {},
     "output_type": "execute_result"
    }
   ],
   "source": [
    "Inbound_CDR=pd.read_csv(r\"D:\\Python dataset\\Ubona\\Inbound CDR.csv\")\n",
    "Inbound_CDR.shape\n",
    "Inbound_CDR = Inbound_CDR.drop_duplicates()\n",
    "Inbound_CDR.shape\n",
    "list(Inbound_CDR.head())\n",
    "# Inbound_CDR.head()"
   ]
  },
  {
   "cell_type": "code",
   "execution_count": 4,
   "metadata": {},
   "outputs": [
    {
     "data": {
      "text/html": [
       "<div>\n",
       "<style scoped>\n",
       "    .dataframe tbody tr th:only-of-type {\n",
       "        vertical-align: middle;\n",
       "    }\n",
       "\n",
       "    .dataframe tbody tr th {\n",
       "        vertical-align: top;\n",
       "    }\n",
       "\n",
       "    .dataframe thead th {\n",
       "        text-align: right;\n",
       "    }\n",
       "</style>\n",
       "<table border=\"1\" class=\"dataframe\">\n",
       "  <thead>\n",
       "    <tr style=\"text-align: right;\">\n",
       "      <th></th>\n",
       "      <th>Call Status</th>\n",
       "    </tr>\n",
       "  </thead>\n",
       "  <tbody>\n",
       "    <tr>\n",
       "      <th>COMPLETED</th>\n",
       "      <td>82136</td>\n",
       "    </tr>\n",
       "    <tr>\n",
       "      <th>AUTO_IVR</th>\n",
       "      <td>49436</td>\n",
       "    </tr>\n",
       "    <tr>\n",
       "      <th>DNC_HOUR_CALLS</th>\n",
       "      <td>10609</td>\n",
       "    </tr>\n",
       "    <tr>\n",
       "      <th>ABANDONED</th>\n",
       "      <td>4614</td>\n",
       "    </tr>\n",
       "    <tr>\n",
       "      <th>CALL_OVERFLOWED</th>\n",
       "      <td>69</td>\n",
       "    </tr>\n",
       "    <tr>\n",
       "      <th>LIVECALL</th>\n",
       "      <td>10</td>\n",
       "    </tr>\n",
       "    <tr>\n",
       "      <th>BLOCKED_NUMBER</th>\n",
       "      <td>6</td>\n",
       "    </tr>\n",
       "    <tr>\n",
       "      <th>Call Status</th>\n",
       "      <td>1</td>\n",
       "    </tr>\n",
       "    <tr>\n",
       "      <th>Total</th>\n",
       "      <td>146881</td>\n",
       "    </tr>\n",
       "  </tbody>\n",
       "</table>\n",
       "</div>"
      ],
      "text/plain": [
       "                 Call Status\n",
       "COMPLETED              82136\n",
       "AUTO_IVR               49436\n",
       "DNC_HOUR_CALLS         10609\n",
       "ABANDONED               4614\n",
       "CALL_OVERFLOWED           69\n",
       "LIVECALL                  10\n",
       "BLOCKED_NUMBER             6\n",
       "Call Status                1\n",
       "Total                 146881"
      ]
     },
     "execution_count": 4,
     "metadata": {},
     "output_type": "execute_result"
    }
   ],
   "source": [
    "Call_status = pd.DataFrame(Inbound_CDR['Call Status'].value_counts())\n",
    "Call_status.loc['Total'] = Call_status.sum(numeric_only=True)\n",
    "Call_status"
   ]
  },
  {
   "cell_type": "code",
   "execution_count": 5,
   "metadata": {},
   "outputs": [],
   "source": [
    "Inbound_CDR.rename(columns = {'Call Status':'Call_Status'}, inplace = True)\n",
    "Inbound_CDR.rename(columns = {'Hold Time':'Hold_Time'}, inplace = True)\n",
    "completed_calls = Inbound_CDR[['Date Time',\n",
    " 'Call Id',\n",
    " 'Phone Number',\n",
    " 'Customer DialedNumber',\n",
    " 'Campaign Name',\n",
    " 'User ID',\n",
    " 'Call_Status',\n",
    " 'Wait Time',\n",
    " 'Agent TalkTime',\n",
    " 'Customer TalkTime',\n",
    " 'Hold_Time',\n",
    " 'Hangup Reason',\n",
    " 'Customer Disconnect Reason',\n",
    " 'Hangup CauseCode',\n",
    " 'Wrap Time',\n",
    " 'Attempted Conference Calls',\n",
    " 'Final Conference Status',\n",
    " 'Final Conference Mode',\n",
    " 'IVR Time',\n",
    " 'Registered number entered',\n",
    " 'Authenticated Client Code',\n",
    " 'Client Code']]"
   ]
  },
  {
   "cell_type": "code",
   "execution_count": 7,
   "metadata": {},
   "outputs": [
    {
     "data": {
      "text/plain": [
       "Date Time                     object\n",
       "Call Id                       object\n",
       "Phone Number                  object\n",
       "Customer DialedNumber         object\n",
       "Campaign Name                 object\n",
       "User ID                       object\n",
       "Call_Status                   object\n",
       "Wait Time                     object\n",
       "Agent TalkTime                object\n",
       "Customer TalkTime             object\n",
       "Hold_Time                     object\n",
       "Hangup Reason                 object\n",
       "Customer Disconnect Reason    object\n",
       "Hangup CauseCode              object\n",
       "Wrap Time                     object\n",
       "Attempted Conference Calls    object\n",
       "Final Conference Status       object\n",
       "Final Conference Mode         object\n",
       "IVR Time                      object\n",
       "Registered number entered     object\n",
       "Authenticated Client Code     object\n",
       "Client Code                   object\n",
       "dtype: object"
      ]
     },
     "execution_count": 7,
     "metadata": {},
     "output_type": "execute_result"
    }
   ],
   "source": [
    "completed_calls = completed_calls[completed_calls['Call_Status'] == 'COMPLETED']\n",
    "# completed_calls = completed_calls[completed_calls['Hold_Time'] > 0 ]\n",
    "completed_calls.dtypes\n",
    "\n",
    "# df2 = completed_calls['Hold_Time'].mean()\n",
    "\n",
    "# completed_calls[\"Hold_Time\"] = pd.to_datetime(completed_calls['Hold_Time'])\n",
    "# list(completed_calls.head())\n",
    "# completed_calls.shape\n",
    "# completed_calls"
   ]
  },
  {
   "cell_type": "code",
   "execution_count": null,
   "metadata": {},
   "outputs": [],
   "source": [
    "completed_calls.to_excel(r\"D:\\Python dataset\\Ubona\\completed_calls.xlsx\",sheet_name='completed_calls',index=False)"
   ]
  },
  {
   "cell_type": "code",
   "execution_count": 8,
   "metadata": {},
   "outputs": [],
   "source": [
    "completed_calls=pd.read_excel(r\"D:\\Python dataset\\Ubona\\completed_calls.xlsx\")"
   ]
  },
  {
   "cell_type": "code",
   "execution_count": 9,
   "metadata": {},
   "outputs": [
    {
     "data": {
      "text/plain": [
       "Date Time                      object\n",
       "Call Id                        object\n",
       "Phone Number                   object\n",
       "Customer DialedNumber         float64\n",
       "Campaign Name                  object\n",
       "User ID                        object\n",
       "Call_Status                    object\n",
       "Wait Time                       int64\n",
       "Agent TalkTime                 object\n",
       "Customer TalkTime              object\n",
       "Hold_Time                     float64\n",
       "Hangup Reason                  object\n",
       "Customer Disconnect Reason     object\n",
       "Hangup CauseCode              float64\n",
       "Wrap Time                     float64\n",
       "Attempted Conference Calls      int64\n",
       "Final Conference Status        object\n",
       "Final Conference Mode          object\n",
       "IVR Time                        int64\n",
       "Registered number entered      object\n",
       "Authenticated Client Code      object\n",
       "Client Code                    object\n",
       "Hold time in sec               object\n",
       "dtype: object"
      ]
     },
     "execution_count": 9,
     "metadata": {},
     "output_type": "execute_result"
    },
    {
     "data": {
      "text/plain": [
       "(82136, 23)"
      ]
     },
     "execution_count": 9,
     "metadata": {},
     "output_type": "execute_result"
    },
    {
     "data": {
      "text/plain": [
       "(25796, 23)"
      ]
     },
     "execution_count": 9,
     "metadata": {},
     "output_type": "execute_result"
    }
   ],
   "source": [
    "completed_calls.dtypes\n",
    "completed_calls.shape\n",
    "completed_calls = completed_calls[completed_calls['Hold_Time'] > 0 ]\n",
    "completed_calls.shape"
   ]
  },
  {
   "cell_type": "code",
   "execution_count": null,
   "metadata": {},
   "outputs": [],
   "source": []
  }
 ],
 "metadata": {
  "kernelspec": {
   "display_name": "Python 3",
   "language": "python",
   "name": "python3"
  },
  "language_info": {
   "codemirror_mode": {
    "name": "ipython",
    "version": 3
   },
   "file_extension": ".py",
   "mimetype": "text/x-python",
   "name": "python",
   "nbconvert_exporter": "python",
   "pygments_lexer": "ipython3",
   "version": "3.11.3"
  },
  "orig_nbformat": 4
 },
 "nbformat": 4,
 "nbformat_minor": 2
}
