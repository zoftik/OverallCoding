{
 "cells": [
  {
   "cell_type": "code",
   "execution_count": 6,
   "metadata": {},
   "outputs": [
    {
     "name": "stdout",
     "output_type": "stream",
     "text": [
      "Getting Page  1\n",
      "Total results:  16\n"
     ]
    },
    {
     "ename": "PermissionError",
     "evalue": "[Errno 13] Permission denied: 'products.csv'",
     "output_type": "error",
     "traceback": [
      "\u001b[1;31m---------------------------------------------------------------------------\u001b[0m",
      "\u001b[1;31mPermissionError\u001b[0m                           Traceback (most recent call last)",
      "Cell \u001b[1;32mIn[6], line 58\u001b[0m\n\u001b[0;32m     54\u001b[0m         save_csv(results)\n\u001b[0;32m     57\u001b[0m \u001b[39mif\u001b[39;00m \u001b[39m__name__\u001b[39m \u001b[39m==\u001b[39m \u001b[39m'\u001b[39m\u001b[39m__main__\u001b[39m\u001b[39m'\u001b[39m:\n\u001b[1;32m---> 58\u001b[0m     main()\n",
      "Cell \u001b[1;32mIn[6], line 54\u001b[0m, in \u001b[0;36mmain\u001b[1;34m()\u001b[0m\n\u001b[0;32m     52\u001b[0m     results\u001b[39m.\u001b[39mappend(parse_product(url))\n\u001b[0;32m     53\u001b[0m \u001b[39mprint\u001b[39m(\u001b[39m'\u001b[39m\u001b[39mTotal results: \u001b[39m\u001b[39m'\u001b[39m, \u001b[39mlen\u001b[39m(results))\n\u001b[1;32m---> 54\u001b[0m save_csv(results)\n",
      "Cell \u001b[1;32mIn[6], line 40\u001b[0m, in \u001b[0;36msave_csv\u001b[1;34m(results)\u001b[0m\n\u001b[0;32m     37\u001b[0m \u001b[39mdef\u001b[39;00m \u001b[39msave_csv\u001b[39m(results):\n\u001b[0;32m     38\u001b[0m     keys \u001b[39m=\u001b[39m results[\u001b[39m0\u001b[39m]\u001b[39m.\u001b[39mkeys()\n\u001b[1;32m---> 40\u001b[0m     \u001b[39mwith\u001b[39;00m \u001b[39mopen\u001b[39;49m(\u001b[39m'\u001b[39;49m\u001b[39mproducts.csv\u001b[39;49m\u001b[39m'\u001b[39;49m, \u001b[39m'\u001b[39;49m\u001b[39mw\u001b[39;49m\u001b[39m'\u001b[39;49m) \u001b[39mas\u001b[39;00m f:\n\u001b[0;32m     41\u001b[0m         dict_writer \u001b[39m=\u001b[39m csv\u001b[39m.\u001b[39mDictWriter(f, keys)\n\u001b[0;32m     42\u001b[0m         dict_writer\u001b[39m.\u001b[39mwriteheader()\n",
      "File \u001b[1;32m~\\AppData\\Roaming\\Python\\Python311\\site-packages\\IPython\\core\\interactiveshell.py:286\u001b[0m, in \u001b[0;36m_modified_open\u001b[1;34m(file, *args, **kwargs)\u001b[0m\n\u001b[0;32m    279\u001b[0m \u001b[39mif\u001b[39;00m file \u001b[39min\u001b[39;00m {\u001b[39m0\u001b[39m, \u001b[39m1\u001b[39m, \u001b[39m2\u001b[39m}:\n\u001b[0;32m    280\u001b[0m     \u001b[39mraise\u001b[39;00m \u001b[39mValueError\u001b[39;00m(\n\u001b[0;32m    281\u001b[0m         \u001b[39mf\u001b[39m\u001b[39m\"\u001b[39m\u001b[39mIPython won\u001b[39m\u001b[39m'\u001b[39m\u001b[39mt let you open fd=\u001b[39m\u001b[39m{\u001b[39;00mfile\u001b[39m}\u001b[39;00m\u001b[39m by default \u001b[39m\u001b[39m\"\u001b[39m\n\u001b[0;32m    282\u001b[0m         \u001b[39m\"\u001b[39m\u001b[39mas it is likely to crash IPython. If you know what you are doing, \u001b[39m\u001b[39m\"\u001b[39m\n\u001b[0;32m    283\u001b[0m         \u001b[39m\"\u001b[39m\u001b[39myou can use builtins\u001b[39m\u001b[39m'\u001b[39m\u001b[39m open.\u001b[39m\u001b[39m\"\u001b[39m\n\u001b[0;32m    284\u001b[0m     )\n\u001b[1;32m--> 286\u001b[0m \u001b[39mreturn\u001b[39;00m io_open(file, \u001b[39m*\u001b[39;49margs, \u001b[39m*\u001b[39;49m\u001b[39m*\u001b[39;49mkwargs)\n",
      "\u001b[1;31mPermissionError\u001b[0m: [Errno 13] Permission denied: 'products.csv'"
     ]
    }
   ],
   "source": [
    "from requests_html import HTMLSession\n",
    "import csv\n",
    "\n",
    "s = HTMLSession()\n",
    "\n",
    "\n",
    "def get_product_links(page):\n",
    "    url = f'https://themes.woocommerce.com/storefront/product-category/clothing/page/{page}'\n",
    "    links = []\n",
    "    r = s.get(url)\n",
    "    products = r.html.find('ul.products li')\n",
    "    for item in products:\n",
    "        links.append(item.find('a', first=True).attrs['href'])\n",
    "    return links\n",
    "\n",
    "\n",
    "def parse_product(url):\n",
    "    r = s.get(url)\n",
    "    title = r.html.find('h1.product_title.entry-title', first=True).text.strip()\n",
    "    price = r.html.find('p.price', first=True).text.strip().replace('\\n', '')\n",
    "    cat = r.html.find('span.posted_in', first=True).text.strip()\n",
    "    try:\n",
    "        sku = r.html.find('span.sku', first=True).text.strip()\n",
    "    except AttributeError as err:\n",
    "        sku = 'None'\n",
    "        # print(err)\n",
    "\n",
    "    product = {\n",
    "        'title': title,\n",
    "        'price': price,\n",
    "        'sku': sku,\n",
    "        'cat': cat,\n",
    "    }\n",
    "    return product\n",
    "\n",
    "\n",
    "def save_csv(results):\n",
    "    keys = results[0].keys()\n",
    "\n",
    "    with open('products.csv', 'w') as f:\n",
    "        dict_writer = csv.DictWriter(f, keys)\n",
    "        dict_writer.writeheader()\n",
    "        dict_writer.writerows(results)\n",
    "\n",
    "\n",
    "def main():\n",
    "    results = []\n",
    "    for x in range(1, 5):\n",
    "        print('Getting Page ', x)\n",
    "        urls = get_product_links(x)\n",
    "        for url in urls:\n",
    "            results.append(parse_product(url))\n",
    "        print('Total results: ', len(results))\n",
    "        save_csv(results)\n",
    "\n",
    "\n",
    "if __name__ == '__main__':\n",
    "    main()"
   ]
  },
  {
   "cell_type": "code",
   "execution_count": null,
   "metadata": {},
   "outputs": [],
   "source": []
  }
 ],
 "metadata": {
  "kernelspec": {
   "display_name": "Python 3",
   "language": "python",
   "name": "python3"
  },
  "language_info": {
   "codemirror_mode": {
    "name": "ipython",
    "version": 3
   },
   "file_extension": ".py",
   "mimetype": "text/x-python",
   "name": "python",
   "nbconvert_exporter": "python",
   "pygments_lexer": "ipython3",
   "version": "3.11.5"
  },
  "orig_nbformat": 4
 },
 "nbformat": 4,
 "nbformat_minor": 2
}
