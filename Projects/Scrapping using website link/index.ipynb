{
 "cells": [
  {
   "cell_type": "code",
   "execution_count": 11,
   "metadata": {},
   "outputs": [],
   "source": [
    "import requests\n",
    "from bs4 import BeautifulSoup\n",
    "import pandas as pd"
   ]
  },
  {
   "cell_type": "code",
   "execution_count": 17,
   "metadata": {},
   "outputs": [
    {
     "data": {
      "text/plain": [
       "bytes"
      ]
     },
     "execution_count": 17,
     "metadata": {},
     "output_type": "execute_result"
    }
   ],
   "source": [
    "headers = {\n",
    "    'User-Agent' : 'Mozilla/5.0 (Windows NT 10.0; Win64; x64) AppleWebKit/537.36 (KHTML, like Gecko) Chrome/116.0.0.0 Safari/537.36'\n",
    "}\n",
    "\n",
    "url = 'https://www.newlook.com/row/womens/clothing/c/row-womens-clothing'\n",
    "\n",
    "response = requests.get(url, headers= headers)\n",
    "soup = BeautifulSoup(response.content , 'html.parser')\n",
    "type(response.content)\n"
   ]
  },
  {
   "cell_type": "code",
   "execution_count": 26,
   "metadata": {},
   "outputs": [
    {
     "data": {
      "text/plain": [
       "'https://www.newlook.com//row/womens/clothing/trousers/black-slim-fit-cargo-trousers/p/858488401'"
      ]
     },
     "execution_count": 26,
     "metadata": {},
     "output_type": "execute_result"
    }
   ],
   "source": [
    "links = soup.find_all('a' , attrs= {'class':\"plp-carousel__img-link\"})\n",
    "link = links[0].get('href')\n",
    "product_link = \"https://www.newlook.com/\" + link\n",
    "product_link\n",
    "New_Webpage = requests.get(product_link, headers= headers)"
   ]
  },
  {
   "cell_type": "code",
   "execution_count": 38,
   "metadata": {},
   "outputs": [
    {
     "data": {
      "text/plain": [
       "'Product Code: 858488401'"
      ]
     },
     "execution_count": 38,
     "metadata": {},
     "output_type": "execute_result"
    }
   ],
   "source": [
    "New_soup = BeautifulSoup(New_Webpage.content , 'html.parser')\n",
    "New_soup.find('h1' , attrs={'class':\"product-description__name\"}).text.strip()\n",
    "New_soup.find('span' , attrs={'class':\"product-description__price\"}).text.strip()\n",
    "New_soup.find('div' , attrs={'class':\"product-details--product-code\"}).text.strip()"
   ]
  },
  {
   "cell_type": "code",
   "execution_count": null,
   "metadata": {},
   "outputs": [],
   "source": [
    "links_list = []\n",
    "\n",
    "for link in links:\n",
    "    links_list.append(link.get('href'))\n",
    "    \n",
    "d = {'title': [], 'price': [], 'product': []}\n",
    "\n",
    "\n",
    "for link in links_list[]:\n",
    "    New_Webpage = requests.get(product_link, headers= headers)"
   ]
  },
  {
   "cell_type": "code",
   "execution_count": 21,
   "metadata": {},
   "outputs": [
    {
     "name": "stdout",
     "output_type": "stream",
     "text": [
      "\n",
      "         Women's Clothing | Latest Women's Fashion | New Look\n",
      "\n",
      "         Women's Clothing | Latest Women's Fashion | New Look\n",
      "\n",
      "         Women's Clothing | Latest Women's Fashion | New Look\n",
      "\n",
      "         Women's Clothing | Latest Women's Fashion | New Look\n"
     ]
    }
   ],
   "source": [
    "from selectolax.parser import HTMLParser\n",
    "import httpx\n",
    "from dataclasses import dataclass, asdict\n",
    "\n",
    "\n",
    "@dataclass\n",
    "class Product1:\n",
    "    product_code: str\n",
    "    price: str\n",
    "    title: str\n",
    "\n",
    "\n",
    "def get_html(page):\n",
    "    headers = {'User-Agent' : 'Mozilla/5.0 (Windows NT 10.0; Win64; x64) AppleWebKit/537.36 (KHTML, like Gecko) Chrome/116.0.0.0 Safari/537.36'}\n",
    "    url = f'https://www.newlook.com/row/womens/clothing/c/row-womens-clothing#/?q=:relevance&page={page}&sort=relevance&content=false'\n",
    "    resp = httpx.get(url , headers= headers)\n",
    "    return HTMLParser(resp.text)\n",
    "\n",
    "\n",
    "def parse_products(html):\n",
    "    products = html.css(\"header.product-heading ng-scope\")\n",
    "    \n",
    "    result=[]\n",
    "    for item in products:\n",
    "        new_item = Product1 (\n",
    "            title = item.css_first(\"class.product-description__name\").text()\n",
    "        )\n",
    "        print(new_item)\n",
    "\n",
    "def main():\n",
    "    for x in range(1,5):\n",
    "        html = get_html(x)\n",
    "        print(html.css_first(\"title\").text())\n",
    "        parse_products(html)\n",
    "\n",
    "\n",
    "if __name__ == '__main__':\n",
    "    main()\n"
   ]
  },
  {
   "cell_type": "code",
   "execution_count": null,
   "metadata": {},
   "outputs": [],
   "source": []
  }
 ],
 "metadata": {
  "kernelspec": {
   "display_name": "Python 3",
   "language": "python",
   "name": "python3"
  },
  "language_info": {
   "codemirror_mode": {
    "name": "ipython",
    "version": 3
   },
   "file_extension": ".py",
   "mimetype": "text/x-python",
   "name": "python",
   "nbconvert_exporter": "python",
   "pygments_lexer": "ipython3",
   "version": "3.11.5"
  },
  "orig_nbformat": 4
 },
 "nbformat": 4,
 "nbformat_minor": 2
}
